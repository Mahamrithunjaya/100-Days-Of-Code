{
  "nbformat": 4,
  "nbformat_minor": 0,
  "metadata": {
    "colab": {
      "name": "Solution_only_with_PANDAS.ipynb",
      "provenance": [],
      "collapsed_sections": [],
      "toc_visible": true
    },
    "kernelspec": {
      "name": "python3",
      "display_name": "Python 3"
    },
    "language_info": {
      "name": "python"
    }
  },
  "cells": [
    {
      "cell_type": "markdown",
      "metadata": {
        "id": "vgXyBo0Uhs6X"
      },
      "source": [
        "# **Importing the necessary Packeages**\n",
        "\n",
        "---\n",
        "\n"
      ]
    },
    {
      "cell_type": "code",
      "metadata": {
        "id": "dixe0KSLbo4H"
      },
      "source": [
        "import pandas as pd"
      ],
      "execution_count": null,
      "outputs": []
    },
    {
      "cell_type": "markdown",
      "metadata": {
        "id": "EQa9JqT_h5J6"
      },
      "source": [
        "# **Main dataframe to collect all data**\n",
        "\n",
        "---\n",
        "\n"
      ]
    },
    {
      "cell_type": "code",
      "metadata": {
        "colab": {
          "base_uri": "https://localhost:8080/"
        },
        "id": "bMG9BXoKbv9i",
        "outputId": "f00699ce-965e-4a52-c336-002cce4e2c7e"
      },
      "source": [
        "table_from_html = pd.read_html(\"https://www.payscale.com/college-salary-report/majors-that-pay-you-back/bachelors\")\n",
        "df = table_from_html[0].copy()\n",
        "df.columns = [\"Rank\", \"Major\", \"Type\", \"EarlyCareerPay\", \"MidCareerPay\", \"HighMeaning\"]\n",
        "print(df)"
      ],
      "execution_count": null,
      "outputs": [
        {
          "output_type": "stream",
          "text": [
            "       Rank  ...         HighMeaning\n",
            "0    Rank:1  ...  % High Meaning:69%\n",
            "1    Rank:2  ...  % High Meaning:46%\n",
            "2    Rank:3  ...  % High Meaning:67%\n",
            "3    Rank:3  ...  % High Meaning:52%\n",
            "4    Rank:5  ...  % High Meaning:49%\n",
            "5    Rank:6  ...  % High Meaning:60%\n",
            "6    Rank:7  ...  % High Meaning:55%\n",
            "7    Rank:8  ...  % High Meaning:79%\n",
            "8    Rank:9  ...  % High Meaning:60%\n",
            "9   Rank:10  ...  % High Meaning:54%\n",
            "10  Rank:11  ...  % High Meaning:67%\n",
            "11  Rank:12  ...  % High Meaning:50%\n",
            "12  Rank:13  ...    % High Meaning:-\n",
            "13  Rank:14  ...  % High Meaning:56%\n",
            "14  Rank:15  ...  % High Meaning:42%\n",
            "15  Rank:16  ...  % High Meaning:60%\n",
            "16  Rank:17  ...  % High Meaning:64%\n",
            "17  Rank:18  ...  % High Meaning:31%\n",
            "18  Rank:18  ...  % High Meaning:34%\n",
            "19  Rank:20  ...  % High Meaning:64%\n",
            "20  Rank:21  ...  % High Meaning:49%\n",
            "21  Rank:22  ...  % High Meaning:63%\n",
            "22  Rank:23  ...  % High Meaning:44%\n",
            "23  Rank:24  ...  % High Meaning:57%\n",
            "24  Rank:25  ...  % High Meaning:49%\n",
            "\n",
            "[25 rows x 6 columns]\n"
          ],
          "name": "stdout"
        }
      ]
    },
    {
      "cell_type": "markdown",
      "metadata": {
        "id": "ZfOlsmEYh-Kb"
      },
      "source": [
        "# **Add tables from other pages to main dataframe**\n",
        "\n",
        "---\n",
        "\n"
      ]
    },
    {
      "cell_type": "code",
      "metadata": {
        "id": "IC9KAVcUdRw0"
      },
      "source": [
        "for page_no in range(2, 35):\n",
        "    table_from_html = pd.read_html(f\"https://www.payscale.com/college-salary-report/majors-that-pay-you-back/bachelors/page/{page_no}\")\n",
        "    page_df = table_from_html[0].copy()\n",
        "    page_df.columns = [\"Rank\", \"Major\", \"Type\", \"EarlyCareerPay\", \"MidCareerPay\", \"HighMeaning\"]\n",
        "    df = df.append(page_df, ignore_index=True)\n"
      ],
      "execution_count": null,
      "outputs": []
    },
    {
      "cell_type": "markdown",
      "metadata": {
        "id": "UIi1IOS6iCJe"
      },
      "source": [
        "# **Select necessary columns only**\n",
        "\n",
        "---\n",
        "\n"
      ]
    },
    {
      "cell_type": "code",
      "metadata": {
        "colab": {
          "base_uri": "https://localhost:8080/"
        },
        "id": "WCX2GBa7dUMj",
        "outputId": "6ce3a874-7f82-4bdc-f159-648fc490b7f8"
      },
      "source": [
        "df = df[[\"Major\", \"EarlyCareerPay\", \"MidCareerPay\"]]\n",
        "print(df)"
      ],
      "execution_count": null,
      "outputs": [
        {
          "output_type": "stream",
          "text": [
            "                                                Major  ...             MidCareerPay\n",
            "0                         Major:Petroleum Engineering  ...  Mid-Career Pay:$182,000\n",
            "1   Major:Electrical Engineering & Computer Scienc...  ...  Mid-Career Pay:$152,300\n",
            "2              Major:Applied Economics and Management  ...  Mid-Career Pay:$139,600\n",
            "3                           Major:Operations Research  ...  Mid-Career Pay:$139,600\n",
            "4                             Major:Public Accounting  ...  Mid-Career Pay:$138,800\n",
            "5   Major:Chemical Engineering/Materials Science &...  ...  Mid-Career Pay:$137,800\n",
            "6                Major:Quantitative Business Analysis  ...  Mid-Career Pay:$136,200\n",
            "7                                      Major:Pharmacy  ...  Mid-Career Pay:$133,200\n",
            "8                    Major:Aeronautics & Astronautics  ...  Mid-Career Pay:$133,100\n",
            "9                           Major:Systems Engineering  ...  Mid-Career Pay:$132,900\n",
            "10                 Major:Electrical Power Engineering  ...  Mid-Career Pay:$130,700\n",
            "11                        Major:Actuarial Mathematics  ...  Mid-Career Pay:$130,500\n",
            "12                            Major:Aerospace Studies  ...  Mid-Career Pay:$130,300\n",
            "13                         Major:Chemical Engineering  ...  Mid-Career Pay:$128,900\n",
            "14                            Major:Actuarial Science  ...  Mid-Career Pay:$128,700\n",
            "15               Major:Information & Computer Science  ...  Mid-Career Pay:$127,600\n",
            "16                     Major:Aeronautical Engineering  ...  Mid-Career Pay:$125,900\n",
            "17  Major:Operations & Information Systems Management  ...  Mid-Career Pay:$125,100\n",
            "18                            Major:Political Economy  ...  Mid-Career Pay:$125,100\n",
            "19                           Major:Marine Engineering  ...  Mid-Career Pay:$125,000\n",
            "20                 Major:Computer Systems Engineering  ...  Mid-Career Pay:$124,800\n",
            "21                          Major:Nuclear Engineering  ...  Mid-Career Pay:$124,500\n",
            "22          Major:Computer Science (CS) & Engineering  ...  Mid-Career Pay:$124,000\n",
            "23               Major:Corporate Accounting & Finance  ...  Mid-Career Pay:$123,600\n",
            "24      Major:Electrical & Computer Engineering (ECE)  ...  Mid-Career Pay:$123,300\n",
            "\n",
            "[25 rows x 3 columns]\n"
          ],
          "name": "stdout"
        }
      ]
    },
    {
      "cell_type": "markdown",
      "metadata": {
        "id": "icHgXTtziFJ9"
      },
      "source": [
        "# **Clean columns**\n",
        "\n",
        "---\n",
        "\n"
      ]
    },
    {
      "cell_type": "code",
      "metadata": {
        "id": "HzWK9IZkdW30"
      },
      "source": [
        "df.replace({\"^Major:\": \"\", \"^Early Career Pay:\\$\": \"\", \"^Mid-Career Pay:\\$\": \"\", \",\": \"\"}, regex=True, inplace=True)"
      ],
      "execution_count": null,
      "outputs": []
    },
    {
      "cell_type": "markdown",
      "metadata": {
        "id": "5tI2by75iI0j"
      },
      "source": [
        "# **Change datatype of numeric columns**\n",
        "\n",
        "---\n",
        "\n"
      ]
    },
    {
      "cell_type": "code",
      "metadata": {
        "id": "lRFBSwrBdYbZ"
      },
      "source": [
        "df[[\"EarlyCareerPay\", \"MidCareerPay\"]] = df[[\"EarlyCareerPay\", \"MidCareerPay\"]].apply(pd.to_numeric)"
      ],
      "execution_count": null,
      "outputs": []
    },
    {
      "cell_type": "markdown",
      "metadata": {
        "id": "kz7kc2WZiP6Q"
      },
      "source": [
        "# **Minimum and Maximum Salary in Early Career**\n",
        "\n",
        "---\n"
      ]
    },
    {
      "cell_type": "code",
      "metadata": {
        "colab": {
          "base_uri": "https://localhost:8080/",
          "height": 204
        },
        "id": "cCDGw0ricayn",
        "outputId": "cfc752cc-282b-4472-819d-1b370db576d4"
      },
      "source": [
        "df.nlargest(5, \"EarlyCareerPay\")"
      ],
      "execution_count": null,
      "outputs": [
        {
          "output_type": "execute_result",
          "data": {
            "text/html": [
              "<div>\n",
              "<style scoped>\n",
              "    .dataframe tbody tr th:only-of-type {\n",
              "        vertical-align: middle;\n",
              "    }\n",
              "\n",
              "    .dataframe tbody tr th {\n",
              "        vertical-align: top;\n",
              "    }\n",
              "\n",
              "    .dataframe thead th {\n",
              "        text-align: right;\n",
              "    }\n",
              "</style>\n",
              "<table border=\"1\" class=\"dataframe\">\n",
              "  <thead>\n",
              "    <tr style=\"text-align: right;\">\n",
              "      <th></th>\n",
              "      <th>Major</th>\n",
              "      <th>EarlyCareerPay</th>\n",
              "      <th>MidCareerPay</th>\n",
              "    </tr>\n",
              "  </thead>\n",
              "  <tbody>\n",
              "    <tr>\n",
              "      <th>1</th>\n",
              "      <td>Electrical Engineering &amp; Computer Science (EECS)</td>\n",
              "      <td>101200</td>\n",
              "      <td>152300</td>\n",
              "    </tr>\n",
              "    <tr>\n",
              "      <th>74</th>\n",
              "      <td>Physician Assistant Studies</td>\n",
              "      <td>92900</td>\n",
              "      <td>112200</td>\n",
              "    </tr>\n",
              "    <tr>\n",
              "      <th>0</th>\n",
              "      <td>Petroleum Engineering</td>\n",
              "      <td>92300</td>\n",
              "      <td>182000</td>\n",
              "    </tr>\n",
              "    <tr>\n",
              "      <th>49</th>\n",
              "      <td>Metallurgical Engineering</td>\n",
              "      <td>79100</td>\n",
              "      <td>117700</td>\n",
              "    </tr>\n",
              "    <tr>\n",
              "      <th>3</th>\n",
              "      <td>Operations Research</td>\n",
              "      <td>78400</td>\n",
              "      <td>139600</td>\n",
              "    </tr>\n",
              "  </tbody>\n",
              "</table>\n",
              "</div>"
            ],
            "text/plain": [
              "                                               Major  ...  MidCareerPay\n",
              "1   Electrical Engineering & Computer Science (EECS)  ...        152300\n",
              "74                       Physician Assistant Studies  ...        112200\n",
              "0                              Petroleum Engineering  ...        182000\n",
              "49                         Metallurgical Engineering  ...        117700\n",
              "3                                Operations Research  ...        139600\n",
              "\n",
              "[5 rows x 3 columns]"
            ]
          },
          "metadata": {
            "tags": []
          },
          "execution_count": 15
        }
      ]
    },
    {
      "cell_type": "code",
      "metadata": {
        "colab": {
          "base_uri": "https://localhost:8080/",
          "height": 204
        },
        "id": "vq3uLb1tchK1",
        "outputId": "04bfd349-cac8-4558-e3f7-029c57efeb2d"
      },
      "source": [
        "df.nsmallest(5, \"EarlyCareerPay\")"
      ],
      "execution_count": null,
      "outputs": [
        {
          "output_type": "execute_result",
          "data": {
            "text/html": [
              "<div>\n",
              "<style scoped>\n",
              "    .dataframe tbody tr th:only-of-type {\n",
              "        vertical-align: middle;\n",
              "    }\n",
              "\n",
              "    .dataframe tbody tr th {\n",
              "        vertical-align: top;\n",
              "    }\n",
              "\n",
              "    .dataframe thead th {\n",
              "        text-align: right;\n",
              "    }\n",
              "</style>\n",
              "<table border=\"1\" class=\"dataframe\">\n",
              "  <thead>\n",
              "    <tr style=\"text-align: right;\">\n",
              "      <th></th>\n",
              "      <th>Major</th>\n",
              "      <th>EarlyCareerPay</th>\n",
              "      <th>MidCareerPay</th>\n",
              "    </tr>\n",
              "  </thead>\n",
              "  <tbody>\n",
              "    <tr>\n",
              "      <th>707</th>\n",
              "      <td>Developmental Psychology</td>\n",
              "      <td>31000</td>\n",
              "      <td>62000</td>\n",
              "    </tr>\n",
              "    <tr>\n",
              "      <th>571</th>\n",
              "      <td>Painting &amp; Printmaking</td>\n",
              "      <td>32800</td>\n",
              "      <td>71100</td>\n",
              "    </tr>\n",
              "    <tr>\n",
              "      <th>814</th>\n",
              "      <td>Voice &amp; Opera</td>\n",
              "      <td>32900</td>\n",
              "      <td>50800</td>\n",
              "    </tr>\n",
              "    <tr>\n",
              "      <th>785</th>\n",
              "      <td>Rehabilitation Services</td>\n",
              "      <td>34100</td>\n",
              "      <td>55700</td>\n",
              "    </tr>\n",
              "    <tr>\n",
              "      <th>828</th>\n",
              "      <td>Child &amp; Family Studies</td>\n",
              "      <td>34100</td>\n",
              "      <td>43600</td>\n",
              "    </tr>\n",
              "  </tbody>\n",
              "</table>\n",
              "</div>"
            ],
            "text/plain": [
              "                        Major  EarlyCareerPay  MidCareerPay\n",
              "707  Developmental Psychology           31000         62000\n",
              "571    Painting & Printmaking           32800         71100\n",
              "814             Voice & Opera           32900         50800\n",
              "785   Rehabilitation Services           34100         55700\n",
              "828    Child & Family Studies           34100         43600"
            ]
          },
          "metadata": {
            "tags": []
          },
          "execution_count": 16
        }
      ]
    },
    {
      "cell_type": "markdown",
      "metadata": {
        "id": "KvKcBXW1iUcz"
      },
      "source": [
        "#**Maximum and Minimum Salary in Mid Career**\n",
        "\n",
        "---"
      ]
    },
    {
      "cell_type": "code",
      "metadata": {
        "colab": {
          "base_uri": "https://localhost:8080/",
          "height": 204
        },
        "id": "8PBLhD1mc4bL",
        "outputId": "fd7cae33-ddaf-417f-aeee-eb243d59f87c"
      },
      "source": [
        "df.nlargest(5, \"MidCareerPay\")"
      ],
      "execution_count": null,
      "outputs": [
        {
          "output_type": "execute_result",
          "data": {
            "text/html": [
              "<div>\n",
              "<style scoped>\n",
              "    .dataframe tbody tr th:only-of-type {\n",
              "        vertical-align: middle;\n",
              "    }\n",
              "\n",
              "    .dataframe tbody tr th {\n",
              "        vertical-align: top;\n",
              "    }\n",
              "\n",
              "    .dataframe thead th {\n",
              "        text-align: right;\n",
              "    }\n",
              "</style>\n",
              "<table border=\"1\" class=\"dataframe\">\n",
              "  <thead>\n",
              "    <tr style=\"text-align: right;\">\n",
              "      <th></th>\n",
              "      <th>Major</th>\n",
              "      <th>EarlyCareerPay</th>\n",
              "      <th>MidCareerPay</th>\n",
              "    </tr>\n",
              "  </thead>\n",
              "  <tbody>\n",
              "    <tr>\n",
              "      <th>0</th>\n",
              "      <td>Petroleum Engineering</td>\n",
              "      <td>92300</td>\n",
              "      <td>182000</td>\n",
              "    </tr>\n",
              "    <tr>\n",
              "      <th>1</th>\n",
              "      <td>Electrical Engineering &amp; Computer Science (EECS)</td>\n",
              "      <td>101200</td>\n",
              "      <td>152300</td>\n",
              "    </tr>\n",
              "    <tr>\n",
              "      <th>2</th>\n",
              "      <td>Applied Economics and Management</td>\n",
              "      <td>60900</td>\n",
              "      <td>139600</td>\n",
              "    </tr>\n",
              "    <tr>\n",
              "      <th>3</th>\n",
              "      <td>Operations Research</td>\n",
              "      <td>78400</td>\n",
              "      <td>139600</td>\n",
              "    </tr>\n",
              "    <tr>\n",
              "      <th>4</th>\n",
              "      <td>Public Accounting</td>\n",
              "      <td>60000</td>\n",
              "      <td>138800</td>\n",
              "    </tr>\n",
              "  </tbody>\n",
              "</table>\n",
              "</div>"
            ],
            "text/plain": [
              "                                              Major  ...  MidCareerPay\n",
              "0                             Petroleum Engineering  ...        182000\n",
              "1  Electrical Engineering & Computer Science (EECS)  ...        152300\n",
              "2                  Applied Economics and Management  ...        139600\n",
              "3                               Operations Research  ...        139600\n",
              "4                                 Public Accounting  ...        138800\n",
              "\n",
              "[5 rows x 3 columns]"
            ]
          },
          "metadata": {
            "tags": []
          },
          "execution_count": 17
        }
      ]
    },
    {
      "cell_type": "code",
      "metadata": {
        "colab": {
          "base_uri": "https://localhost:8080/",
          "height": 204
        },
        "id": "09zpU_wKc8a7",
        "outputId": "d9aee48d-f3a5-4337-cebc-ae6da9b4b19c"
      },
      "source": [
        "df.nsmallest(5, \"MidCareerPay\")"
      ],
      "execution_count": null,
      "outputs": [
        {
          "output_type": "execute_result",
          "data": {
            "text/html": [
              "<div>\n",
              "<style scoped>\n",
              "    .dataframe tbody tr th:only-of-type {\n",
              "        vertical-align: middle;\n",
              "    }\n",
              "\n",
              "    .dataframe tbody tr th {\n",
              "        vertical-align: top;\n",
              "    }\n",
              "\n",
              "    .dataframe thead th {\n",
              "        text-align: right;\n",
              "    }\n",
              "</style>\n",
              "<table border=\"1\" class=\"dataframe\">\n",
              "  <thead>\n",
              "    <tr style=\"text-align: right;\">\n",
              "      <th></th>\n",
              "      <th>Major</th>\n",
              "      <th>EarlyCareerPay</th>\n",
              "      <th>MidCareerPay</th>\n",
              "    </tr>\n",
              "  </thead>\n",
              "  <tbody>\n",
              "    <tr>\n",
              "      <th>833</th>\n",
              "      <td>Metalsmithing</td>\n",
              "      <td>38300</td>\n",
              "      <td>38400</td>\n",
              "    </tr>\n",
              "    <tr>\n",
              "      <th>832</th>\n",
              "      <td>Addictions Counseling</td>\n",
              "      <td>38800</td>\n",
              "      <td>42200</td>\n",
              "    </tr>\n",
              "    <tr>\n",
              "      <th>831</th>\n",
              "      <td>Medical Assisting</td>\n",
              "      <td>35100</td>\n",
              "      <td>42300</td>\n",
              "    </tr>\n",
              "    <tr>\n",
              "      <th>830</th>\n",
              "      <td>Mental Health</td>\n",
              "      <td>35200</td>\n",
              "      <td>42500</td>\n",
              "    </tr>\n",
              "    <tr>\n",
              "      <th>829</th>\n",
              "      <td>Early Childhood Education</td>\n",
              "      <td>34100</td>\n",
              "      <td>43300</td>\n",
              "    </tr>\n",
              "  </tbody>\n",
              "</table>\n",
              "</div>"
            ],
            "text/plain": [
              "                         Major  EarlyCareerPay  MidCareerPay\n",
              "833              Metalsmithing           38300         38400\n",
              "832      Addictions Counseling           38800         42200\n",
              "831          Medical Assisting           35100         42300\n",
              "830              Mental Health           35200         42500\n",
              "829  Early Childhood Education           34100         43300"
            ]
          },
          "metadata": {
            "tags": []
          },
          "execution_count": 18
        }
      ]
    },
    {
      "cell_type": "code",
      "metadata": {
        "id": "C1pPYvJndB_b"
      },
      "source": [
        ""
      ],
      "execution_count": null,
      "outputs": []
    }
  ]
}