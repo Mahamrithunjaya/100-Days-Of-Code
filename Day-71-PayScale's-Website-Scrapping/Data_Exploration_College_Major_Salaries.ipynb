{
  "nbformat": 4,
  "nbformat_minor": 0,
  "metadata": {
    "colab": {
      "name": "Data Exploration_College_Major_Salaries.ipynb",
      "provenance": [],
      "collapsed_sections": [],
      "toc_visible": true
    },
    "kernelspec": {
      "name": "python3",
      "display_name": "Python 3"
    },
    "language_info": {
      "name": "python"
    }
  },
  "cells": [
    {
      "cell_type": "markdown",
      "metadata": {
        "id": "eiEVG9c_eh9Q"
      },
      "source": [
        "# **Importing All the necessary Packages**\n",
        "\n",
        "---\n",
        "\n"
      ]
    },
    {
      "cell_type": "code",
      "metadata": {
        "id": "1RJvpwRieeLW"
      },
      "source": [
        "import pandas as pd\n",
        "from bs4 import BeautifulSoup\n",
        "import requests"
      ],
      "execution_count": 2,
      "outputs": []
    },
    {
      "cell_type": "markdown",
      "metadata": {
        "id": "wT4-xEZJeNSH"
      },
      "source": [
        "# **Scrapping the Website Using BeautifulSoup**\n",
        "\n",
        "---\n",
        "\n"
      ]
    },
    {
      "cell_type": "code",
      "metadata": {
        "id": "TjAIkzvlVdzs"
      },
      "source": [
        "records = []\n",
        "\n",
        "first_page_endpoint = \"https://www.payscale.com/college-salary-report/majors-that-pay-you-back/bachelors\"\n",
        "next_page_endpoint = \"https://www.payscale.com/college-salary-report/majors-that-pay-you-back/bachelors/page/\"\n",
        "response = requests.get(first_page_endpoint)\n",
        "response.raise_for_status()\n",
        "website_data = response.text\n",
        "\n",
        "soup = BeautifulSoup(website_data, \"html.parser\")\n",
        "# print(soup.prettify())\n",
        "\n",
        "\n",
        "# ############################# Finding the Total Page Numbers ############################## #\n",
        "inner_buttons = soup.find_all(\"div\", {\"class\": \"pagination__btn--inner\"})\n",
        "page_numbers = [inner_button.getText() for inner_button in inner_buttons if inner_button.getText().isnumeric()]\n",
        "total_pages = int(max(page_numbers))\n",
        "# print(page_numbers)\n",
        "# print(total_pages)\n",
        "\n",
        "# ############################ Getting Data From Table ####################################### #\n",
        "for current_page in range(total_pages):\n",
        "    if current_page == 0:\n",
        "        data = website_data\n",
        "    else:\n",
        "        response = requests.get(next_page_endpoint+str(current_page + 1))\n",
        "        response.raise_for_status()\n",
        "        data = response.text\n",
        "\n",
        "    soup = BeautifulSoup(data, \"html.parser\")\n",
        "\n",
        "    rows = soup.select(\"table.data-table tbody tr\")\n",
        "    for row in rows:\n",
        "        cells = row.select(\"span.data-table__value\")\n",
        "        record = {\n",
        "            \"Major\": cells[1].getText(),\n",
        "            \"Early Career Pay\": float(cells[3].getText().strip(\"$\").replace(\",\", \"\")),\n",
        "            \"Mid-Career Pay\": float(cells[4].getText().strip(\"$\").replace(\",\", \"\")),\n",
        "            \"% High Meaning\": cells[5].getText(),\n",
        "        }\n",
        "        records.append(record)\n",
        "\n",
        "pd.DataFrame(records).to_csv(\"salaries_by_college_major_updated.csv\", index=False)\n"
      ],
      "execution_count": 3,
      "outputs": []
    },
    {
      "cell_type": "markdown",
      "metadata": {
        "id": "Cvf45Sp6eLSd"
      },
      "source": [
        "# **Now reading the CSV file which is generated from the above.**\n",
        "\n",
        "---\n",
        "\n"
      ]
    },
    {
      "cell_type": "code",
      "metadata": {
        "colab": {
          "base_uri": "https://localhost:8080/",
          "height": 204
        },
        "id": "332CdqM3VqP2",
        "outputId": "5823cb03-82fa-4c7f-d382-a61c3f9495d0"
      },
      "source": [
        "df = pd.read_csv('salaries_by_college_major_updated.csv')\n",
        "df.head()"
      ],
      "execution_count": 4,
      "outputs": [
        {
          "output_type": "execute_result",
          "data": {
            "text/html": [
              "<div>\n",
              "<style scoped>\n",
              "    .dataframe tbody tr th:only-of-type {\n",
              "        vertical-align: middle;\n",
              "    }\n",
              "\n",
              "    .dataframe tbody tr th {\n",
              "        vertical-align: top;\n",
              "    }\n",
              "\n",
              "    .dataframe thead th {\n",
              "        text-align: right;\n",
              "    }\n",
              "</style>\n",
              "<table border=\"1\" class=\"dataframe\">\n",
              "  <thead>\n",
              "    <tr style=\"text-align: right;\">\n",
              "      <th></th>\n",
              "      <th>Major</th>\n",
              "      <th>Early Career Pay</th>\n",
              "      <th>Mid-Career Pay</th>\n",
              "      <th>% High Meaning</th>\n",
              "    </tr>\n",
              "  </thead>\n",
              "  <tbody>\n",
              "    <tr>\n",
              "      <th>0</th>\n",
              "      <td>Petroleum Engineering</td>\n",
              "      <td>92300.0</td>\n",
              "      <td>182000.0</td>\n",
              "      <td>69%</td>\n",
              "    </tr>\n",
              "    <tr>\n",
              "      <th>1</th>\n",
              "      <td>Electrical Engineering &amp; Computer Science (EECS)</td>\n",
              "      <td>101200.0</td>\n",
              "      <td>152300.0</td>\n",
              "      <td>46%</td>\n",
              "    </tr>\n",
              "    <tr>\n",
              "      <th>2</th>\n",
              "      <td>Applied Economics and Management</td>\n",
              "      <td>60900.0</td>\n",
              "      <td>139600.0</td>\n",
              "      <td>67%</td>\n",
              "    </tr>\n",
              "    <tr>\n",
              "      <th>3</th>\n",
              "      <td>Operations Research</td>\n",
              "      <td>78400.0</td>\n",
              "      <td>139600.0</td>\n",
              "      <td>52%</td>\n",
              "    </tr>\n",
              "    <tr>\n",
              "      <th>4</th>\n",
              "      <td>Public Accounting</td>\n",
              "      <td>60000.0</td>\n",
              "      <td>138800.0</td>\n",
              "      <td>49%</td>\n",
              "    </tr>\n",
              "  </tbody>\n",
              "</table>\n",
              "</div>"
            ],
            "text/plain": [
              "                                              Major  ...  % High Meaning\n",
              "0                             Petroleum Engineering  ...             69%\n",
              "1  Electrical Engineering & Computer Science (EECS)  ...             46%\n",
              "2                  Applied Economics and Management  ...             67%\n",
              "3                               Operations Research  ...             52%\n",
              "4                                 Public Accounting  ...             49%\n",
              "\n",
              "[5 rows x 4 columns]"
            ]
          },
          "metadata": {
            "tags": []
          },
          "execution_count": 4
        }
      ]
    },
    {
      "cell_type": "markdown",
      "metadata": {
        "id": "j3KnFqpsgS-Y"
      },
      "source": [
        "# **Data Exploration and Data Cleaning**"
      ]
    },
    {
      "cell_type": "code",
      "metadata": {
        "colab": {
          "base_uri": "https://localhost:8080/"
        },
        "id": "27aE33ZuWXK5",
        "outputId": "e63bd26b-81a3-436a-b185-1c227d99a4f0"
      },
      "source": [
        "df.shape"
      ],
      "execution_count": 5,
      "outputs": [
        {
          "output_type": "execute_result",
          "data": {
            "text/plain": [
              "(834, 4)"
            ]
          },
          "metadata": {
            "tags": []
          },
          "execution_count": 5
        }
      ]
    },
    {
      "cell_type": "code",
      "metadata": {
        "colab": {
          "base_uri": "https://localhost:8080/"
        },
        "id": "-9wsfXTkWZ_7",
        "outputId": "a6ed22f9-938d-431b-93de-f201b299c390"
      },
      "source": [
        "df.columns"
      ],
      "execution_count": 6,
      "outputs": [
        {
          "output_type": "execute_result",
          "data": {
            "text/plain": [
              "Index(['Major', 'Early Career Pay', 'Mid-Career Pay', '% High Meaning'], dtype='object')"
            ]
          },
          "metadata": {
            "tags": []
          },
          "execution_count": 6
        }
      ]
    },
    {
      "cell_type": "code",
      "metadata": {
        "colab": {
          "base_uri": "https://localhost:8080/",
          "height": 419
        },
        "id": "qLFnzTujgN0A",
        "outputId": "114c2420-e23a-4cfe-ed7d-3afbb6d2cb0c"
      },
      "source": [
        "df.isna()"
      ],
      "execution_count": 7,
      "outputs": [
        {
          "output_type": "execute_result",
          "data": {
            "text/html": [
              "<div>\n",
              "<style scoped>\n",
              "    .dataframe tbody tr th:only-of-type {\n",
              "        vertical-align: middle;\n",
              "    }\n",
              "\n",
              "    .dataframe tbody tr th {\n",
              "        vertical-align: top;\n",
              "    }\n",
              "\n",
              "    .dataframe thead th {\n",
              "        text-align: right;\n",
              "    }\n",
              "</style>\n",
              "<table border=\"1\" class=\"dataframe\">\n",
              "  <thead>\n",
              "    <tr style=\"text-align: right;\">\n",
              "      <th></th>\n",
              "      <th>Major</th>\n",
              "      <th>Early Career Pay</th>\n",
              "      <th>Mid-Career Pay</th>\n",
              "      <th>% High Meaning</th>\n",
              "    </tr>\n",
              "  </thead>\n",
              "  <tbody>\n",
              "    <tr>\n",
              "      <th>0</th>\n",
              "      <td>False</td>\n",
              "      <td>False</td>\n",
              "      <td>False</td>\n",
              "      <td>False</td>\n",
              "    </tr>\n",
              "    <tr>\n",
              "      <th>1</th>\n",
              "      <td>False</td>\n",
              "      <td>False</td>\n",
              "      <td>False</td>\n",
              "      <td>False</td>\n",
              "    </tr>\n",
              "    <tr>\n",
              "      <th>2</th>\n",
              "      <td>False</td>\n",
              "      <td>False</td>\n",
              "      <td>False</td>\n",
              "      <td>False</td>\n",
              "    </tr>\n",
              "    <tr>\n",
              "      <th>3</th>\n",
              "      <td>False</td>\n",
              "      <td>False</td>\n",
              "      <td>False</td>\n",
              "      <td>False</td>\n",
              "    </tr>\n",
              "    <tr>\n",
              "      <th>4</th>\n",
              "      <td>False</td>\n",
              "      <td>False</td>\n",
              "      <td>False</td>\n",
              "      <td>False</td>\n",
              "    </tr>\n",
              "    <tr>\n",
              "      <th>...</th>\n",
              "      <td>...</td>\n",
              "      <td>...</td>\n",
              "      <td>...</td>\n",
              "      <td>...</td>\n",
              "    </tr>\n",
              "    <tr>\n",
              "      <th>829</th>\n",
              "      <td>False</td>\n",
              "      <td>False</td>\n",
              "      <td>False</td>\n",
              "      <td>False</td>\n",
              "    </tr>\n",
              "    <tr>\n",
              "      <th>830</th>\n",
              "      <td>False</td>\n",
              "      <td>False</td>\n",
              "      <td>False</td>\n",
              "      <td>False</td>\n",
              "    </tr>\n",
              "    <tr>\n",
              "      <th>831</th>\n",
              "      <td>False</td>\n",
              "      <td>False</td>\n",
              "      <td>False</td>\n",
              "      <td>False</td>\n",
              "    </tr>\n",
              "    <tr>\n",
              "      <th>832</th>\n",
              "      <td>False</td>\n",
              "      <td>False</td>\n",
              "      <td>False</td>\n",
              "      <td>False</td>\n",
              "    </tr>\n",
              "    <tr>\n",
              "      <th>833</th>\n",
              "      <td>False</td>\n",
              "      <td>False</td>\n",
              "      <td>False</td>\n",
              "      <td>False</td>\n",
              "    </tr>\n",
              "  </tbody>\n",
              "</table>\n",
              "<p>834 rows × 4 columns</p>\n",
              "</div>"
            ],
            "text/plain": [
              "     Major  Early Career Pay  Mid-Career Pay  % High Meaning\n",
              "0    False             False           False           False\n",
              "1    False             False           False           False\n",
              "2    False             False           False           False\n",
              "3    False             False           False           False\n",
              "4    False             False           False           False\n",
              "..     ...               ...             ...             ...\n",
              "829  False             False           False           False\n",
              "830  False             False           False           False\n",
              "831  False             False           False           False\n",
              "832  False             False           False           False\n",
              "833  False             False           False           False\n",
              "\n",
              "[834 rows x 4 columns]"
            ]
          },
          "metadata": {
            "tags": []
          },
          "execution_count": 7
        }
      ]
    },
    {
      "cell_type": "markdown",
      "metadata": {
        "id": "EG6paq4Ig6C4"
      },
      "source": [
        "# **Minimum and Maximum Salary in Early Career**\n",
        "\n",
        "---\n"
      ]
    },
    {
      "cell_type": "code",
      "metadata": {
        "colab": {
          "base_uri": "https://localhost:8080/",
          "height": 204
        },
        "id": "RwYmq_VxWdmL",
        "outputId": "d85e8a96-d9f7-490e-cac6-0dbe2ec06d86"
      },
      "source": [
        "# Minimum Salary in Early Career\n",
        "min_early_pay = df.sort_values('Early Career Pay')\n",
        "min_early_pay[['Major', 'Early Career Pay']].head()"
      ],
      "execution_count": null,
      "outputs": [
        {
          "output_type": "execute_result",
          "data": {
            "text/html": [
              "<div>\n",
              "<style scoped>\n",
              "    .dataframe tbody tr th:only-of-type {\n",
              "        vertical-align: middle;\n",
              "    }\n",
              "\n",
              "    .dataframe tbody tr th {\n",
              "        vertical-align: top;\n",
              "    }\n",
              "\n",
              "    .dataframe thead th {\n",
              "        text-align: right;\n",
              "    }\n",
              "</style>\n",
              "<table border=\"1\" class=\"dataframe\">\n",
              "  <thead>\n",
              "    <tr style=\"text-align: right;\">\n",
              "      <th></th>\n",
              "      <th>Major</th>\n",
              "      <th>Early Career Pay</th>\n",
              "    </tr>\n",
              "  </thead>\n",
              "  <tbody>\n",
              "    <tr>\n",
              "      <th>707</th>\n",
              "      <td>Developmental Psychology</td>\n",
              "      <td>31000.0</td>\n",
              "    </tr>\n",
              "    <tr>\n",
              "      <th>571</th>\n",
              "      <td>Painting &amp; Printmaking</td>\n",
              "      <td>32800.0</td>\n",
              "    </tr>\n",
              "    <tr>\n",
              "      <th>814</th>\n",
              "      <td>Voice &amp; Opera</td>\n",
              "      <td>32900.0</td>\n",
              "    </tr>\n",
              "    <tr>\n",
              "      <th>829</th>\n",
              "      <td>Early Childhood Education</td>\n",
              "      <td>34100.0</td>\n",
              "    </tr>\n",
              "    <tr>\n",
              "      <th>828</th>\n",
              "      <td>Child &amp; Family Studies</td>\n",
              "      <td>34100.0</td>\n",
              "    </tr>\n",
              "  </tbody>\n",
              "</table>\n",
              "</div>"
            ],
            "text/plain": [
              "                         Major  Early Career Pay\n",
              "707   Developmental Psychology           31000.0\n",
              "571     Painting & Printmaking           32800.0\n",
              "814              Voice & Opera           32900.0\n",
              "829  Early Childhood Education           34100.0\n",
              "828     Child & Family Studies           34100.0"
            ]
          },
          "metadata": {
            "tags": []
          },
          "execution_count": 9
        }
      ]
    },
    {
      "cell_type": "code",
      "metadata": {
        "colab": {
          "base_uri": "https://localhost:8080/",
          "height": 204
        },
        "id": "tTv7m7WSXngc",
        "outputId": "d5bc6221-325f-46e7-ac0d-2adb5e753e5a"
      },
      "source": [
        "# Maximum Salary in Early Career\n",
        "max_early_pay = df.sort_values('Early Career Pay', ascending=False)\n",
        "max_early_pay[['Major', 'Early Career Pay']].head()"
      ],
      "execution_count": null,
      "outputs": [
        {
          "output_type": "execute_result",
          "data": {
            "text/html": [
              "<div>\n",
              "<style scoped>\n",
              "    .dataframe tbody tr th:only-of-type {\n",
              "        vertical-align: middle;\n",
              "    }\n",
              "\n",
              "    .dataframe tbody tr th {\n",
              "        vertical-align: top;\n",
              "    }\n",
              "\n",
              "    .dataframe thead th {\n",
              "        text-align: right;\n",
              "    }\n",
              "</style>\n",
              "<table border=\"1\" class=\"dataframe\">\n",
              "  <thead>\n",
              "    <tr style=\"text-align: right;\">\n",
              "      <th></th>\n",
              "      <th>Major</th>\n",
              "      <th>Early Career Pay</th>\n",
              "    </tr>\n",
              "  </thead>\n",
              "  <tbody>\n",
              "    <tr>\n",
              "      <th>1</th>\n",
              "      <td>Electrical Engineering &amp; Computer Science (EECS)</td>\n",
              "      <td>101200.0</td>\n",
              "    </tr>\n",
              "    <tr>\n",
              "      <th>74</th>\n",
              "      <td>Physician Assistant Studies</td>\n",
              "      <td>92900.0</td>\n",
              "    </tr>\n",
              "    <tr>\n",
              "      <th>0</th>\n",
              "      <td>Petroleum Engineering</td>\n",
              "      <td>92300.0</td>\n",
              "    </tr>\n",
              "    <tr>\n",
              "      <th>49</th>\n",
              "      <td>Metallurgical Engineering</td>\n",
              "      <td>79100.0</td>\n",
              "    </tr>\n",
              "    <tr>\n",
              "      <th>3</th>\n",
              "      <td>Operations Research</td>\n",
              "      <td>78400.0</td>\n",
              "    </tr>\n",
              "  </tbody>\n",
              "</table>\n",
              "</div>"
            ],
            "text/plain": [
              "                                               Major  Early Career Pay\n",
              "1   Electrical Engineering & Computer Science (EECS)          101200.0\n",
              "74                       Physician Assistant Studies           92900.0\n",
              "0                              Petroleum Engineering           92300.0\n",
              "49                         Metallurgical Engineering           79100.0\n",
              "3                                Operations Research           78400.0"
            ]
          },
          "metadata": {
            "tags": []
          },
          "execution_count": 10
        }
      ]
    },
    {
      "cell_type": "code",
      "metadata": {
        "colab": {
          "base_uri": "https://localhost:8080/",
          "height": 204
        },
        "id": "7IsG7LODYFKL",
        "outputId": "deca98a9-5559-474a-ff53-ede6ea498580"
      },
      "source": [
        "# Another Way to Find the Largest Value from the DataFrame\n",
        "df.nlargest(5, 'Early Career Pay')"
      ],
      "execution_count": null,
      "outputs": [
        {
          "output_type": "execute_result",
          "data": {
            "text/html": [
              "<div>\n",
              "<style scoped>\n",
              "    .dataframe tbody tr th:only-of-type {\n",
              "        vertical-align: middle;\n",
              "    }\n",
              "\n",
              "    .dataframe tbody tr th {\n",
              "        vertical-align: top;\n",
              "    }\n",
              "\n",
              "    .dataframe thead th {\n",
              "        text-align: right;\n",
              "    }\n",
              "</style>\n",
              "<table border=\"1\" class=\"dataframe\">\n",
              "  <thead>\n",
              "    <tr style=\"text-align: right;\">\n",
              "      <th></th>\n",
              "      <th>Major</th>\n",
              "      <th>Early Career Pay</th>\n",
              "      <th>Mid-Career Pay</th>\n",
              "      <th>% High Meaning</th>\n",
              "    </tr>\n",
              "  </thead>\n",
              "  <tbody>\n",
              "    <tr>\n",
              "      <th>1</th>\n",
              "      <td>Electrical Engineering &amp; Computer Science (EECS)</td>\n",
              "      <td>101200.0</td>\n",
              "      <td>152300.0</td>\n",
              "      <td>46%</td>\n",
              "    </tr>\n",
              "    <tr>\n",
              "      <th>74</th>\n",
              "      <td>Physician Assistant Studies</td>\n",
              "      <td>92900.0</td>\n",
              "      <td>112200.0</td>\n",
              "      <td>86%</td>\n",
              "    </tr>\n",
              "    <tr>\n",
              "      <th>0</th>\n",
              "      <td>Petroleum Engineering</td>\n",
              "      <td>92300.0</td>\n",
              "      <td>182000.0</td>\n",
              "      <td>69%</td>\n",
              "    </tr>\n",
              "    <tr>\n",
              "      <th>49</th>\n",
              "      <td>Metallurgical Engineering</td>\n",
              "      <td>79100.0</td>\n",
              "      <td>117700.0</td>\n",
              "      <td>55%</td>\n",
              "    </tr>\n",
              "    <tr>\n",
              "      <th>3</th>\n",
              "      <td>Operations Research</td>\n",
              "      <td>78400.0</td>\n",
              "      <td>139600.0</td>\n",
              "      <td>52%</td>\n",
              "    </tr>\n",
              "  </tbody>\n",
              "</table>\n",
              "</div>"
            ],
            "text/plain": [
              "                                               Major  ...  % High Meaning\n",
              "1   Electrical Engineering & Computer Science (EECS)  ...             46%\n",
              "74                       Physician Assistant Studies  ...             86%\n",
              "0                              Petroleum Engineering  ...             69%\n",
              "49                         Metallurgical Engineering  ...             55%\n",
              "3                                Operations Research  ...             52%\n",
              "\n",
              "[5 rows x 4 columns]"
            ]
          },
          "metadata": {
            "tags": []
          },
          "execution_count": 11
        }
      ]
    },
    {
      "cell_type": "code",
      "metadata": {
        "colab": {
          "base_uri": "https://localhost:8080/",
          "height": 204
        },
        "id": "2qy82NwQYS2D",
        "outputId": "0dce30ab-c272-407b-8f20-e3a73705ac62"
      },
      "source": [
        "df.nsmallest(5, 'Early Career Pay')"
      ],
      "execution_count": null,
      "outputs": [
        {
          "output_type": "execute_result",
          "data": {
            "text/html": [
              "<div>\n",
              "<style scoped>\n",
              "    .dataframe tbody tr th:only-of-type {\n",
              "        vertical-align: middle;\n",
              "    }\n",
              "\n",
              "    .dataframe tbody tr th {\n",
              "        vertical-align: top;\n",
              "    }\n",
              "\n",
              "    .dataframe thead th {\n",
              "        text-align: right;\n",
              "    }\n",
              "</style>\n",
              "<table border=\"1\" class=\"dataframe\">\n",
              "  <thead>\n",
              "    <tr style=\"text-align: right;\">\n",
              "      <th></th>\n",
              "      <th>Major</th>\n",
              "      <th>Early Career Pay</th>\n",
              "      <th>Mid-Career Pay</th>\n",
              "      <th>% High Meaning</th>\n",
              "    </tr>\n",
              "  </thead>\n",
              "  <tbody>\n",
              "    <tr>\n",
              "      <th>707</th>\n",
              "      <td>Developmental Psychology</td>\n",
              "      <td>31000.0</td>\n",
              "      <td>62000.0</td>\n",
              "      <td>-</td>\n",
              "    </tr>\n",
              "    <tr>\n",
              "      <th>571</th>\n",
              "      <td>Painting &amp; Printmaking</td>\n",
              "      <td>32800.0</td>\n",
              "      <td>71100.0</td>\n",
              "      <td>41%</td>\n",
              "    </tr>\n",
              "    <tr>\n",
              "      <th>814</th>\n",
              "      <td>Voice &amp; Opera</td>\n",
              "      <td>32900.0</td>\n",
              "      <td>50800.0</td>\n",
              "      <td>61%</td>\n",
              "    </tr>\n",
              "    <tr>\n",
              "      <th>785</th>\n",
              "      <td>Rehabilitation Services</td>\n",
              "      <td>34100.0</td>\n",
              "      <td>55700.0</td>\n",
              "      <td>79%</td>\n",
              "    </tr>\n",
              "    <tr>\n",
              "      <th>828</th>\n",
              "      <td>Child &amp; Family Studies</td>\n",
              "      <td>34100.0</td>\n",
              "      <td>43600.0</td>\n",
              "      <td>74%</td>\n",
              "    </tr>\n",
              "  </tbody>\n",
              "</table>\n",
              "</div>"
            ],
            "text/plain": [
              "                        Major  Early Career Pay  Mid-Career Pay % High Meaning\n",
              "707  Developmental Psychology           31000.0         62000.0              -\n",
              "571    Painting & Printmaking           32800.0         71100.0            41%\n",
              "814             Voice & Opera           32900.0         50800.0            61%\n",
              "785   Rehabilitation Services           34100.0         55700.0            79%\n",
              "828    Child & Family Studies           34100.0         43600.0            74%"
            ]
          },
          "metadata": {
            "tags": []
          },
          "execution_count": 12
        }
      ]
    },
    {
      "cell_type": "markdown",
      "metadata": {
        "id": "o1MzSPfphKXV"
      },
      "source": [
        "#**Maximum and Minimum Salary in Mid Career**\n",
        "\n",
        "---\n",
        "\n"
      ]
    },
    {
      "cell_type": "code",
      "metadata": {
        "colab": {
          "base_uri": "https://localhost:8080/",
          "height": 204
        },
        "id": "8Q8abcA9YlUr",
        "outputId": "64aac62a-85e7-432f-9130-f16278802064"
      },
      "source": [
        "df.nlargest(5, 'Mid-Career Pay')"
      ],
      "execution_count": null,
      "outputs": [
        {
          "output_type": "execute_result",
          "data": {
            "text/html": [
              "<div>\n",
              "<style scoped>\n",
              "    .dataframe tbody tr th:only-of-type {\n",
              "        vertical-align: middle;\n",
              "    }\n",
              "\n",
              "    .dataframe tbody tr th {\n",
              "        vertical-align: top;\n",
              "    }\n",
              "\n",
              "    .dataframe thead th {\n",
              "        text-align: right;\n",
              "    }\n",
              "</style>\n",
              "<table border=\"1\" class=\"dataframe\">\n",
              "  <thead>\n",
              "    <tr style=\"text-align: right;\">\n",
              "      <th></th>\n",
              "      <th>Major</th>\n",
              "      <th>Early Career Pay</th>\n",
              "      <th>Mid-Career Pay</th>\n",
              "      <th>% High Meaning</th>\n",
              "    </tr>\n",
              "  </thead>\n",
              "  <tbody>\n",
              "    <tr>\n",
              "      <th>0</th>\n",
              "      <td>Petroleum Engineering</td>\n",
              "      <td>92300.0</td>\n",
              "      <td>182000.0</td>\n",
              "      <td>69%</td>\n",
              "    </tr>\n",
              "    <tr>\n",
              "      <th>1</th>\n",
              "      <td>Electrical Engineering &amp; Computer Science (EECS)</td>\n",
              "      <td>101200.0</td>\n",
              "      <td>152300.0</td>\n",
              "      <td>46%</td>\n",
              "    </tr>\n",
              "    <tr>\n",
              "      <th>2</th>\n",
              "      <td>Applied Economics and Management</td>\n",
              "      <td>60900.0</td>\n",
              "      <td>139600.0</td>\n",
              "      <td>67%</td>\n",
              "    </tr>\n",
              "    <tr>\n",
              "      <th>3</th>\n",
              "      <td>Operations Research</td>\n",
              "      <td>78400.0</td>\n",
              "      <td>139600.0</td>\n",
              "      <td>52%</td>\n",
              "    </tr>\n",
              "    <tr>\n",
              "      <th>4</th>\n",
              "      <td>Public Accounting</td>\n",
              "      <td>60000.0</td>\n",
              "      <td>138800.0</td>\n",
              "      <td>49%</td>\n",
              "    </tr>\n",
              "  </tbody>\n",
              "</table>\n",
              "</div>"
            ],
            "text/plain": [
              "                                              Major  ...  % High Meaning\n",
              "0                             Petroleum Engineering  ...             69%\n",
              "1  Electrical Engineering & Computer Science (EECS)  ...             46%\n",
              "2                  Applied Economics and Management  ...             67%\n",
              "3                               Operations Research  ...             52%\n",
              "4                                 Public Accounting  ...             49%\n",
              "\n",
              "[5 rows x 4 columns]"
            ]
          },
          "metadata": {
            "tags": []
          },
          "execution_count": 13
        }
      ]
    },
    {
      "cell_type": "code",
      "metadata": {
        "colab": {
          "base_uri": "https://localhost:8080/",
          "height": 204
        },
        "id": "AuX_9ZWOZOe1",
        "outputId": "d9188a70-6fdc-4297-af22-bb536259c51b"
      },
      "source": [
        "df.nsmallest(5, 'Mid-Career Pay')"
      ],
      "execution_count": null,
      "outputs": [
        {
          "output_type": "execute_result",
          "data": {
            "text/html": [
              "<div>\n",
              "<style scoped>\n",
              "    .dataframe tbody tr th:only-of-type {\n",
              "        vertical-align: middle;\n",
              "    }\n",
              "\n",
              "    .dataframe tbody tr th {\n",
              "        vertical-align: top;\n",
              "    }\n",
              "\n",
              "    .dataframe thead th {\n",
              "        text-align: right;\n",
              "    }\n",
              "</style>\n",
              "<table border=\"1\" class=\"dataframe\">\n",
              "  <thead>\n",
              "    <tr style=\"text-align: right;\">\n",
              "      <th></th>\n",
              "      <th>Major</th>\n",
              "      <th>Early Career Pay</th>\n",
              "      <th>Mid-Career Pay</th>\n",
              "      <th>% High Meaning</th>\n",
              "    </tr>\n",
              "  </thead>\n",
              "  <tbody>\n",
              "    <tr>\n",
              "      <th>833</th>\n",
              "      <td>Metalsmithing</td>\n",
              "      <td>38300.0</td>\n",
              "      <td>38400.0</td>\n",
              "      <td>32%</td>\n",
              "    </tr>\n",
              "    <tr>\n",
              "      <th>832</th>\n",
              "      <td>Addictions Counseling</td>\n",
              "      <td>38800.0</td>\n",
              "      <td>42200.0</td>\n",
              "      <td>-</td>\n",
              "    </tr>\n",
              "    <tr>\n",
              "      <th>831</th>\n",
              "      <td>Medical Assisting</td>\n",
              "      <td>35100.0</td>\n",
              "      <td>42300.0</td>\n",
              "      <td>-</td>\n",
              "    </tr>\n",
              "    <tr>\n",
              "      <th>830</th>\n",
              "      <td>Mental Health</td>\n",
              "      <td>35200.0</td>\n",
              "      <td>42500.0</td>\n",
              "      <td>-</td>\n",
              "    </tr>\n",
              "    <tr>\n",
              "      <th>829</th>\n",
              "      <td>Early Childhood Education</td>\n",
              "      <td>34100.0</td>\n",
              "      <td>43300.0</td>\n",
              "      <td>78%</td>\n",
              "    </tr>\n",
              "  </tbody>\n",
              "</table>\n",
              "</div>"
            ],
            "text/plain": [
              "                         Major  Early Career Pay  Mid-Career Pay % High Meaning\n",
              "833              Metalsmithing           38300.0         38400.0            32%\n",
              "832      Addictions Counseling           38800.0         42200.0              -\n",
              "831          Medical Assisting           35100.0         42300.0              -\n",
              "830              Mental Health           35200.0         42500.0              -\n",
              "829  Early Childhood Education           34100.0         43300.0            78%"
            ]
          },
          "metadata": {
            "tags": []
          },
          "execution_count": 14
        }
      ]
    },
    {
      "cell_type": "code",
      "metadata": {
        "id": "d0Wys7o9ZUbq"
      },
      "source": [
        ""
      ],
      "execution_count": null,
      "outputs": []
    }
  ]
}