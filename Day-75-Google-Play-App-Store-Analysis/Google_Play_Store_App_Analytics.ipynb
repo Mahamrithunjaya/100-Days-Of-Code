{
  "nbformat": 4,
  "nbformat_minor": 0,
  "metadata": {
    "kernelspec": {
      "display_name": "Python 3",
      "language": "python",
      "name": "python3"
    },
    "language_info": {
      "codemirror_mode": {
        "name": "ipython",
        "version": 3
      },
      "file_extension": ".py",
      "mimetype": "text/x-python",
      "name": "python",
      "nbconvert_exporter": "python",
      "pygments_lexer": "ipython3",
      "version": "3.7.3"
    },
    "colab": {
      "name": "Google_Play_Store_App_Analytics.ipynb",
      "provenance": [],
      "collapsed_sections": [
        "BFoRqpezjebe",
        "RoPpW37xdiUm",
        "7T4sfNpFdiUv",
        "Rgposh-CdiU4",
        "VGu85CLb4OOH",
        "lvpM2MyTdiU6",
        "0tTurR7qdiU9",
        "57mowetLdiU_",
        "Uxk24qMk8vrz",
        "dmXDF75WdiVC",
        "F3zaKvfydiVI",
        "BIWG_10PyIzL",
        "nbYh2tU-VZ-i",
        "Xi2NaEBPVNrP",
        "uT32ylj4WS9B"
      ]
    }
  },
  "cells": [
    {
      "cell_type": "markdown",
      "metadata": {
        "dc": {
          "key": "4"
        },
        "run_control": {
          "frozen": true
        },
        "tags": [
          "context"
        ],
        "id": "-Sxae4jbdiT2"
      },
      "source": [
        "# Introduction\n",
        "\n",
        "In this notebook, we will do a comprehensive analysis of the Android app market by comparing thousands of apps in the Google Play store."
      ]
    },
    {
      "cell_type": "markdown",
      "metadata": {
        "id": "sDT5lMxadiT3"
      },
      "source": [
        "# About the Dataset of Google Play Store Apps & Reviews"
      ]
    },
    {
      "cell_type": "markdown",
      "metadata": {
        "id": "5CiydsdNdiT3"
      },
      "source": [
        "**Data Source:** <br>\n",
        "App and review data was scraped from the Google Play Store by Lavanya Gupta in 2018. Original files listed [here](\n",
        "https://www.kaggle.com/lava18/google-play-store-apps)."
      ]
    },
    {
      "cell_type": "markdown",
      "metadata": {
        "id": "BBKBNy4UdiT4"
      },
      "source": [
        "# Import Statements"
      ]
    },
    {
      "cell_type": "code",
      "metadata": {
        "id": "_5mfFH4_diT4"
      },
      "source": [
        "import pandas as pd\n"
      ],
      "execution_count": 1,
      "outputs": []
    },
    {
      "cell_type": "markdown",
      "metadata": {
        "id": "KegC9nPDdiT7"
      },
      "source": [
        "# Notebook Presentation"
      ]
    },
    {
      "cell_type": "code",
      "metadata": {
        "id": "WPL7rhJndiT7"
      },
      "source": [
        "# Show numeric output in decimal format e.g., 2.15\n",
        "pd.options.display.float_format = '{:,.2f}'.format"
      ],
      "execution_count": 2,
      "outputs": []
    },
    {
      "cell_type": "markdown",
      "metadata": {
        "id": "Uc9LOZu9diT-"
      },
      "source": [
        "# Read the Dataset"
      ]
    },
    {
      "cell_type": "code",
      "metadata": {
        "id": "zU0Zisv_diT-"
      },
      "source": [
        "df_apps = pd.read_csv('apps.csv')"
      ],
      "execution_count": 3,
      "outputs": []
    },
    {
      "cell_type": "markdown",
      "metadata": {
        "id": "iKvSUwQldiUA"
      },
      "source": [
        "# Data Cleaning"
      ]
    },
    {
      "cell_type": "markdown",
      "metadata": {
        "id": "MWTzYZIds5L9"
      },
      "source": [
        "**Challenge**: How many rows and columns does `df_apps` have? What are the column names? Look at a random sample of 5 different rows with [.sample()](https://pandas.pydata.org/pandas-docs/stable/reference/api/pandas.DataFrame.sample.html)."
      ]
    },
    {
      "cell_type": "code",
      "metadata": {
        "id": "HJI7UsPrnuRf",
        "colab": {
          "base_uri": "https://localhost:8080/"
        },
        "outputId": "6a949821-523a-4ad5-c3fd-3e20f71756db"
      },
      "source": [
        "df_apps.shape"
      ],
      "execution_count": 4,
      "outputs": [
        {
          "output_type": "execute_result",
          "data": {
            "text/plain": [
              "(10841, 12)"
            ]
          },
          "metadata": {
            "tags": []
          },
          "execution_count": 4
        }
      ]
    },
    {
      "cell_type": "code",
      "metadata": {
        "id": "fKXFjPkmnuYA",
        "colab": {
          "base_uri": "https://localhost:8080/"
        },
        "outputId": "c5239b4c-48bd-4c14-9c5f-a8bade62ca13"
      },
      "source": [
        "df_apps.columns"
      ],
      "execution_count": 5,
      "outputs": [
        {
          "output_type": "execute_result",
          "data": {
            "text/plain": [
              "Index(['App', 'Category', 'Rating', 'Reviews', 'Size_MBs', 'Installs', 'Type',\n",
              "       'Price', 'Content_Rating', 'Genres', 'Last_Updated', 'Android_Ver'],\n",
              "      dtype='object')"
            ]
          },
          "metadata": {
            "tags": []
          },
          "execution_count": 5
        }
      ]
    },
    {
      "cell_type": "code",
      "metadata": {
        "id": "MUluaHF5nueH",
        "colab": {
          "base_uri": "https://localhost:8080/",
          "height": 455
        },
        "outputId": "b30e3ddd-81e3-4f05-a47d-a5881e8f16ec"
      },
      "source": [
        "df_apps.sample(5)"
      ],
      "execution_count": 7,
      "outputs": [
        {
          "output_type": "execute_result",
          "data": {
            "text/html": [
              "<div>\n",
              "<style scoped>\n",
              "    .dataframe tbody tr th:only-of-type {\n",
              "        vertical-align: middle;\n",
              "    }\n",
              "\n",
              "    .dataframe tbody tr th {\n",
              "        vertical-align: top;\n",
              "    }\n",
              "\n",
              "    .dataframe thead th {\n",
              "        text-align: right;\n",
              "    }\n",
              "</style>\n",
              "<table border=\"1\" class=\"dataframe\">\n",
              "  <thead>\n",
              "    <tr style=\"text-align: right;\">\n",
              "      <th></th>\n",
              "      <th>App</th>\n",
              "      <th>Category</th>\n",
              "      <th>Rating</th>\n",
              "      <th>Reviews</th>\n",
              "      <th>Size_MBs</th>\n",
              "      <th>Installs</th>\n",
              "      <th>Type</th>\n",
              "      <th>Price</th>\n",
              "      <th>Content_Rating</th>\n",
              "      <th>Genres</th>\n",
              "      <th>Last_Updated</th>\n",
              "      <th>Android_Ver</th>\n",
              "    </tr>\n",
              "  </thead>\n",
              "  <tbody>\n",
              "    <tr>\n",
              "      <th>8673</th>\n",
              "      <td>CM Transfer - Share any files with friends nearby</td>\n",
              "      <td>COMMUNICATION</td>\n",
              "      <td>4.60</td>\n",
              "      <td>71740</td>\n",
              "      <td>5.80</td>\n",
              "      <td>5,000,000</td>\n",
              "      <td>Free</td>\n",
              "      <td>0</td>\n",
              "      <td>Everyone</td>\n",
              "      <td>Communication</td>\n",
              "      <td>June 27, 2018</td>\n",
              "      <td>4.0 and up</td>\n",
              "    </tr>\n",
              "    <tr>\n",
              "      <th>4188</th>\n",
              "      <td>BN Pro BlueICS-b HD Text</td>\n",
              "      <td>LIBRARIES_AND_DEMO</td>\n",
              "      <td>4.20</td>\n",
              "      <td>78</td>\n",
              "      <td>0.79</td>\n",
              "      <td>10,000</td>\n",
              "      <td>Free</td>\n",
              "      <td>0</td>\n",
              "      <td>Everyone</td>\n",
              "      <td>Libraries &amp; Demo</td>\n",
              "      <td>February 5, 2017</td>\n",
              "      <td>1.6 and up</td>\n",
              "    </tr>\n",
              "    <tr>\n",
              "      <th>6970</th>\n",
              "      <td>Bedouin Rivals</td>\n",
              "      <td>FAMILY</td>\n",
              "      <td>4.20</td>\n",
              "      <td>79826</td>\n",
              "      <td>19.00</td>\n",
              "      <td>1,000,000</td>\n",
              "      <td>Free</td>\n",
              "      <td>0</td>\n",
              "      <td>Everyone 10+</td>\n",
              "      <td>Strategy</td>\n",
              "      <td>July 26, 2018</td>\n",
              "      <td>4.1 and up</td>\n",
              "    </tr>\n",
              "    <tr>\n",
              "      <th>6997</th>\n",
              "      <td>Shopular: Coupons, Weekly Ads &amp; Shopping Deals</td>\n",
              "      <td>SHOPPING</td>\n",
              "      <td>4.70</td>\n",
              "      <td>57920</td>\n",
              "      <td>9.30</td>\n",
              "      <td>1,000,000</td>\n",
              "      <td>Free</td>\n",
              "      <td>0</td>\n",
              "      <td>Everyone</td>\n",
              "      <td>Shopping</td>\n",
              "      <td>May 31, 2018</td>\n",
              "      <td>Varies with device</td>\n",
              "    </tr>\n",
              "    <tr>\n",
              "      <th>199</th>\n",
              "      <td>CS go bomb simulator</td>\n",
              "      <td>FAMILY</td>\n",
              "      <td>nan</td>\n",
              "      <td>7</td>\n",
              "      <td>28.00</td>\n",
              "      <td>10</td>\n",
              "      <td>Paid</td>\n",
              "      <td>$0.99</td>\n",
              "      <td>Everyone</td>\n",
              "      <td>Casual</td>\n",
              "      <td>May 21, 2018</td>\n",
              "      <td>4.1 and up</td>\n",
              "    </tr>\n",
              "  </tbody>\n",
              "</table>\n",
              "</div>"
            ],
            "text/plain": [
              "                                                    App  ...         Android_Ver\n",
              "8673  CM Transfer - Share any files with friends nearby  ...          4.0 and up\n",
              "4188                           BN Pro BlueICS-b HD Text  ...          1.6 and up\n",
              "6970                                     Bedouin Rivals  ...          4.1 and up\n",
              "6997     Shopular: Coupons, Weekly Ads & Shopping Deals  ...  Varies with device\n",
              "199                                CS go bomb simulator  ...          4.1 and up\n",
              "\n",
              "[5 rows x 12 columns]"
            ]
          },
          "metadata": {
            "tags": []
          },
          "execution_count": 7
        }
      ]
    },
    {
      "cell_type": "markdown",
      "metadata": {
        "id": "Hh81sMcvdiUI"
      },
      "source": [
        "### Drop Unused Columns\n",
        "\n",
        "**Challenge**: Remove the columns called `Last_Updated` and `Android_Version` from the DataFrame. We will not use these columns. "
      ]
    },
    {
      "cell_type": "code",
      "metadata": {
        "id": "t7EMSKAOnyzI",
        "colab": {
          "base_uri": "https://localhost:8080/",
          "height": 203
        },
        "outputId": "641c9c4f-0f3d-43fe-c408-63b02eacc214"
      },
      "source": [
        "df_apps.drop(columns=['Last_Updated', 'Android_Ver'], axis=1, inplace=True)\n",
        "df_apps.head()"
      ],
      "execution_count": 9,
      "outputs": [
        {
          "output_type": "execute_result",
          "data": {
            "text/html": [
              "<div>\n",
              "<style scoped>\n",
              "    .dataframe tbody tr th:only-of-type {\n",
              "        vertical-align: middle;\n",
              "    }\n",
              "\n",
              "    .dataframe tbody tr th {\n",
              "        vertical-align: top;\n",
              "    }\n",
              "\n",
              "    .dataframe thead th {\n",
              "        text-align: right;\n",
              "    }\n",
              "</style>\n",
              "<table border=\"1\" class=\"dataframe\">\n",
              "  <thead>\n",
              "    <tr style=\"text-align: right;\">\n",
              "      <th></th>\n",
              "      <th>App</th>\n",
              "      <th>Category</th>\n",
              "      <th>Rating</th>\n",
              "      <th>Reviews</th>\n",
              "      <th>Size_MBs</th>\n",
              "      <th>Installs</th>\n",
              "      <th>Type</th>\n",
              "      <th>Price</th>\n",
              "      <th>Content_Rating</th>\n",
              "      <th>Genres</th>\n",
              "    </tr>\n",
              "  </thead>\n",
              "  <tbody>\n",
              "    <tr>\n",
              "      <th>0</th>\n",
              "      <td>Ak Parti Yardım Toplama</td>\n",
              "      <td>SOCIAL</td>\n",
              "      <td>nan</td>\n",
              "      <td>0</td>\n",
              "      <td>8.70</td>\n",
              "      <td>0</td>\n",
              "      <td>Paid</td>\n",
              "      <td>$13.99</td>\n",
              "      <td>Teen</td>\n",
              "      <td>Social</td>\n",
              "    </tr>\n",
              "    <tr>\n",
              "      <th>1</th>\n",
              "      <td>Ain Arabic Kids Alif Ba ta</td>\n",
              "      <td>FAMILY</td>\n",
              "      <td>nan</td>\n",
              "      <td>0</td>\n",
              "      <td>33.00</td>\n",
              "      <td>0</td>\n",
              "      <td>Paid</td>\n",
              "      <td>$2.99</td>\n",
              "      <td>Everyone</td>\n",
              "      <td>Education</td>\n",
              "    </tr>\n",
              "    <tr>\n",
              "      <th>2</th>\n",
              "      <td>Popsicle Launcher for Android P 9.0 launcher</td>\n",
              "      <td>PERSONALIZATION</td>\n",
              "      <td>nan</td>\n",
              "      <td>0</td>\n",
              "      <td>5.50</td>\n",
              "      <td>0</td>\n",
              "      <td>Paid</td>\n",
              "      <td>$1.49</td>\n",
              "      <td>Everyone</td>\n",
              "      <td>Personalization</td>\n",
              "    </tr>\n",
              "    <tr>\n",
              "      <th>3</th>\n",
              "      <td>Command &amp; Conquer: Rivals</td>\n",
              "      <td>FAMILY</td>\n",
              "      <td>nan</td>\n",
              "      <td>0</td>\n",
              "      <td>19.00</td>\n",
              "      <td>0</td>\n",
              "      <td>NaN</td>\n",
              "      <td>0</td>\n",
              "      <td>Everyone 10+</td>\n",
              "      <td>Strategy</td>\n",
              "    </tr>\n",
              "    <tr>\n",
              "      <th>4</th>\n",
              "      <td>CX Network</td>\n",
              "      <td>BUSINESS</td>\n",
              "      <td>nan</td>\n",
              "      <td>0</td>\n",
              "      <td>10.00</td>\n",
              "      <td>0</td>\n",
              "      <td>Free</td>\n",
              "      <td>0</td>\n",
              "      <td>Everyone</td>\n",
              "      <td>Business</td>\n",
              "    </tr>\n",
              "  </tbody>\n",
              "</table>\n",
              "</div>"
            ],
            "text/plain": [
              "                                            App  ...           Genres\n",
              "0                       Ak Parti Yardım Toplama  ...           Social\n",
              "1                    Ain Arabic Kids Alif Ba ta  ...        Education\n",
              "2  Popsicle Launcher for Android P 9.0 launcher  ...  Personalization\n",
              "3                     Command & Conquer: Rivals  ...         Strategy\n",
              "4                                    CX Network  ...         Business\n",
              "\n",
              "[5 rows x 10 columns]"
            ]
          },
          "metadata": {
            "tags": []
          },
          "execution_count": 9
        }
      ]
    },
    {
      "cell_type": "markdown",
      "metadata": {
        "id": "YQGe1DIKdiUM"
      },
      "source": [
        "### Find and Remove NaN values in Ratings\n",
        "\n",
        "**Challenge**: How may rows have a NaN value (not-a-number) in the Ratings column? Create DataFrame called `df_apps_clean` that does not include these rows. "
      ]
    },
    {
      "cell_type": "code",
      "metadata": {
        "id": "grcP1IOZn1Wv",
        "colab": {
          "base_uri": "https://localhost:8080/",
          "height": 220
        },
        "outputId": "fcdb79f3-cae5-432c-9a44-a1f6e803e83a"
      },
      "source": [
        "nan_rows = df_apps[df_apps.Rating.isna()]\n",
        "print(nan_rows.shape)\n",
        "nan_rows.head()"
      ],
      "execution_count": 13,
      "outputs": [
        {
          "output_type": "stream",
          "text": [
            "(1474, 10)\n"
          ],
          "name": "stdout"
        },
        {
          "output_type": "execute_result",
          "data": {
            "text/html": [
              "<div>\n",
              "<style scoped>\n",
              "    .dataframe tbody tr th:only-of-type {\n",
              "        vertical-align: middle;\n",
              "    }\n",
              "\n",
              "    .dataframe tbody tr th {\n",
              "        vertical-align: top;\n",
              "    }\n",
              "\n",
              "    .dataframe thead th {\n",
              "        text-align: right;\n",
              "    }\n",
              "</style>\n",
              "<table border=\"1\" class=\"dataframe\">\n",
              "  <thead>\n",
              "    <tr style=\"text-align: right;\">\n",
              "      <th></th>\n",
              "      <th>App</th>\n",
              "      <th>Category</th>\n",
              "      <th>Rating</th>\n",
              "      <th>Reviews</th>\n",
              "      <th>Size_MBs</th>\n",
              "      <th>Installs</th>\n",
              "      <th>Type</th>\n",
              "      <th>Price</th>\n",
              "      <th>Content_Rating</th>\n",
              "      <th>Genres</th>\n",
              "    </tr>\n",
              "  </thead>\n",
              "  <tbody>\n",
              "    <tr>\n",
              "      <th>0</th>\n",
              "      <td>Ak Parti Yardım Toplama</td>\n",
              "      <td>SOCIAL</td>\n",
              "      <td>nan</td>\n",
              "      <td>0</td>\n",
              "      <td>8.70</td>\n",
              "      <td>0</td>\n",
              "      <td>Paid</td>\n",
              "      <td>$13.99</td>\n",
              "      <td>Teen</td>\n",
              "      <td>Social</td>\n",
              "    </tr>\n",
              "    <tr>\n",
              "      <th>1</th>\n",
              "      <td>Ain Arabic Kids Alif Ba ta</td>\n",
              "      <td>FAMILY</td>\n",
              "      <td>nan</td>\n",
              "      <td>0</td>\n",
              "      <td>33.00</td>\n",
              "      <td>0</td>\n",
              "      <td>Paid</td>\n",
              "      <td>$2.99</td>\n",
              "      <td>Everyone</td>\n",
              "      <td>Education</td>\n",
              "    </tr>\n",
              "    <tr>\n",
              "      <th>2</th>\n",
              "      <td>Popsicle Launcher for Android P 9.0 launcher</td>\n",
              "      <td>PERSONALIZATION</td>\n",
              "      <td>nan</td>\n",
              "      <td>0</td>\n",
              "      <td>5.50</td>\n",
              "      <td>0</td>\n",
              "      <td>Paid</td>\n",
              "      <td>$1.49</td>\n",
              "      <td>Everyone</td>\n",
              "      <td>Personalization</td>\n",
              "    </tr>\n",
              "    <tr>\n",
              "      <th>3</th>\n",
              "      <td>Command &amp; Conquer: Rivals</td>\n",
              "      <td>FAMILY</td>\n",
              "      <td>nan</td>\n",
              "      <td>0</td>\n",
              "      <td>19.00</td>\n",
              "      <td>0</td>\n",
              "      <td>NaN</td>\n",
              "      <td>0</td>\n",
              "      <td>Everyone 10+</td>\n",
              "      <td>Strategy</td>\n",
              "    </tr>\n",
              "    <tr>\n",
              "      <th>4</th>\n",
              "      <td>CX Network</td>\n",
              "      <td>BUSINESS</td>\n",
              "      <td>nan</td>\n",
              "      <td>0</td>\n",
              "      <td>10.00</td>\n",
              "      <td>0</td>\n",
              "      <td>Free</td>\n",
              "      <td>0</td>\n",
              "      <td>Everyone</td>\n",
              "      <td>Business</td>\n",
              "    </tr>\n",
              "  </tbody>\n",
              "</table>\n",
              "</div>"
            ],
            "text/plain": [
              "                                            App  ...           Genres\n",
              "0                       Ak Parti Yardım Toplama  ...           Social\n",
              "1                    Ain Arabic Kids Alif Ba ta  ...        Education\n",
              "2  Popsicle Launcher for Android P 9.0 launcher  ...  Personalization\n",
              "3                     Command & Conquer: Rivals  ...         Strategy\n",
              "4                                    CX Network  ...         Business\n",
              "\n",
              "[5 rows x 10 columns]"
            ]
          },
          "metadata": {
            "tags": []
          },
          "execution_count": 13
        }
      ]
    },
    {
      "cell_type": "code",
      "metadata": {
        "id": "IbQnnPaUn1Pw",
        "colab": {
          "base_uri": "https://localhost:8080/",
          "height": 220
        },
        "outputId": "d2e7f9fd-9035-4abd-fdea-f30a821db1da"
      },
      "source": [
        "df_apps_clean = df_apps.dropna()\n",
        "print(df_apps_clean.shape)\n",
        "df_apps_clean.head()"
      ],
      "execution_count": 18,
      "outputs": [
        {
          "output_type": "stream",
          "text": [
            "(9367, 10)\n"
          ],
          "name": "stdout"
        },
        {
          "output_type": "execute_result",
          "data": {
            "text/html": [
              "<div>\n",
              "<style scoped>\n",
              "    .dataframe tbody tr th:only-of-type {\n",
              "        vertical-align: middle;\n",
              "    }\n",
              "\n",
              "    .dataframe tbody tr th {\n",
              "        vertical-align: top;\n",
              "    }\n",
              "\n",
              "    .dataframe thead th {\n",
              "        text-align: right;\n",
              "    }\n",
              "</style>\n",
              "<table border=\"1\" class=\"dataframe\">\n",
              "  <thead>\n",
              "    <tr style=\"text-align: right;\">\n",
              "      <th></th>\n",
              "      <th>App</th>\n",
              "      <th>Category</th>\n",
              "      <th>Rating</th>\n",
              "      <th>Reviews</th>\n",
              "      <th>Size_MBs</th>\n",
              "      <th>Installs</th>\n",
              "      <th>Type</th>\n",
              "      <th>Price</th>\n",
              "      <th>Content_Rating</th>\n",
              "      <th>Genres</th>\n",
              "    </tr>\n",
              "  </thead>\n",
              "  <tbody>\n",
              "    <tr>\n",
              "      <th>21</th>\n",
              "      <td>KBA-EZ Health Guide</td>\n",
              "      <td>MEDICAL</td>\n",
              "      <td>5.00</td>\n",
              "      <td>4</td>\n",
              "      <td>25.00</td>\n",
              "      <td>1</td>\n",
              "      <td>Free</td>\n",
              "      <td>0</td>\n",
              "      <td>Everyone</td>\n",
              "      <td>Medical</td>\n",
              "    </tr>\n",
              "    <tr>\n",
              "      <th>28</th>\n",
              "      <td>Ra Ga Ba</td>\n",
              "      <td>GAME</td>\n",
              "      <td>5.00</td>\n",
              "      <td>2</td>\n",
              "      <td>20.00</td>\n",
              "      <td>1</td>\n",
              "      <td>Paid</td>\n",
              "      <td>$1.49</td>\n",
              "      <td>Everyone</td>\n",
              "      <td>Arcade</td>\n",
              "    </tr>\n",
              "    <tr>\n",
              "      <th>47</th>\n",
              "      <td>Mu.F.O.</td>\n",
              "      <td>GAME</td>\n",
              "      <td>5.00</td>\n",
              "      <td>2</td>\n",
              "      <td>16.00</td>\n",
              "      <td>1</td>\n",
              "      <td>Paid</td>\n",
              "      <td>$0.99</td>\n",
              "      <td>Everyone</td>\n",
              "      <td>Arcade</td>\n",
              "    </tr>\n",
              "    <tr>\n",
              "      <th>82</th>\n",
              "      <td>Brick Breaker BR</td>\n",
              "      <td>GAME</td>\n",
              "      <td>5.00</td>\n",
              "      <td>7</td>\n",
              "      <td>19.00</td>\n",
              "      <td>5</td>\n",
              "      <td>Free</td>\n",
              "      <td>0</td>\n",
              "      <td>Everyone</td>\n",
              "      <td>Arcade</td>\n",
              "    </tr>\n",
              "    <tr>\n",
              "      <th>99</th>\n",
              "      <td>Anatomy &amp; Physiology Vocabulary Exam Review App</td>\n",
              "      <td>MEDICAL</td>\n",
              "      <td>5.00</td>\n",
              "      <td>1</td>\n",
              "      <td>4.60</td>\n",
              "      <td>5</td>\n",
              "      <td>Free</td>\n",
              "      <td>0</td>\n",
              "      <td>Everyone</td>\n",
              "      <td>Medical</td>\n",
              "    </tr>\n",
              "  </tbody>\n",
              "</table>\n",
              "</div>"
            ],
            "text/plain": [
              "                                                App  ...   Genres\n",
              "21                              KBA-EZ Health Guide  ...  Medical\n",
              "28                                         Ra Ga Ba  ...   Arcade\n",
              "47                                          Mu.F.O.  ...   Arcade\n",
              "82                                 Brick Breaker BR  ...   Arcade\n",
              "99  Anatomy & Physiology Vocabulary Exam Review App  ...  Medical\n",
              "\n",
              "[5 rows x 10 columns]"
            ]
          },
          "metadata": {
            "tags": []
          },
          "execution_count": 18
        }
      ]
    },
    {
      "cell_type": "markdown",
      "metadata": {
        "id": "pD26SWlxdiUV"
      },
      "source": [
        "### Find and Remove Duplicates\n",
        "\n",
        "**Challenge**: Are there any duplicates in data? Check for duplicates using the [.duplicated()](https://pandas.pydata.org/pandas-docs/stable/reference/api/pandas.DataFrame.duplicated.html) function. How many entries can you find for the \"Instagram\" app? Use [.drop_duplicates()](https://pandas.pydata.org/pandas-docs/stable/reference/api/pandas.DataFrame.drop_duplicates.html) to remove any duplicates from `df_apps_clean`. \n"
      ]
    },
    {
      "cell_type": "code",
      "metadata": {
        "id": "lE7X6KG3n5pR",
        "colab": {
          "base_uri": "https://localhost:8080/",
          "height": 220
        },
        "outputId": "f3e07f06-82a3-4b81-9d66-b0c8b1f16f11"
      },
      "source": [
        "# Check for duplicated rows\n",
        "\n",
        "duplicated_rows = df_apps_clean[df_apps_clean.duplicated()]\n",
        "print(duplicated_rows.shape)\n",
        "duplicated_rows.head()"
      ],
      "execution_count": 32,
      "outputs": [
        {
          "output_type": "stream",
          "text": [
            "(476, 10)\n"
          ],
          "name": "stdout"
        },
        {
          "output_type": "execute_result",
          "data": {
            "text/html": [
              "<div>\n",
              "<style scoped>\n",
              "    .dataframe tbody tr th:only-of-type {\n",
              "        vertical-align: middle;\n",
              "    }\n",
              "\n",
              "    .dataframe tbody tr th {\n",
              "        vertical-align: top;\n",
              "    }\n",
              "\n",
              "    .dataframe thead th {\n",
              "        text-align: right;\n",
              "    }\n",
              "</style>\n",
              "<table border=\"1\" class=\"dataframe\">\n",
              "  <thead>\n",
              "    <tr style=\"text-align: right;\">\n",
              "      <th></th>\n",
              "      <th>App</th>\n",
              "      <th>Category</th>\n",
              "      <th>Rating</th>\n",
              "      <th>Reviews</th>\n",
              "      <th>Size_MBs</th>\n",
              "      <th>Installs</th>\n",
              "      <th>Type</th>\n",
              "      <th>Price</th>\n",
              "      <th>Content_Rating</th>\n",
              "      <th>Genres</th>\n",
              "    </tr>\n",
              "  </thead>\n",
              "  <tbody>\n",
              "    <tr>\n",
              "      <th>946</th>\n",
              "      <td>420 BZ Budeze Delivery</td>\n",
              "      <td>MEDICAL</td>\n",
              "      <td>5.00</td>\n",
              "      <td>2</td>\n",
              "      <td>11.00</td>\n",
              "      <td>100</td>\n",
              "      <td>Free</td>\n",
              "      <td>0</td>\n",
              "      <td>Mature 17+</td>\n",
              "      <td>Medical</td>\n",
              "    </tr>\n",
              "    <tr>\n",
              "      <th>1133</th>\n",
              "      <td>MouseMingle</td>\n",
              "      <td>DATING</td>\n",
              "      <td>2.70</td>\n",
              "      <td>3</td>\n",
              "      <td>3.90</td>\n",
              "      <td>100</td>\n",
              "      <td>Free</td>\n",
              "      <td>0</td>\n",
              "      <td>Mature 17+</td>\n",
              "      <td>Dating</td>\n",
              "    </tr>\n",
              "    <tr>\n",
              "      <th>1196</th>\n",
              "      <td>Cardiac diagnosis (heart rate, arrhythmia)</td>\n",
              "      <td>MEDICAL</td>\n",
              "      <td>4.40</td>\n",
              "      <td>8</td>\n",
              "      <td>6.50</td>\n",
              "      <td>100</td>\n",
              "      <td>Paid</td>\n",
              "      <td>$12.99</td>\n",
              "      <td>Everyone</td>\n",
              "      <td>Medical</td>\n",
              "    </tr>\n",
              "    <tr>\n",
              "      <th>1231</th>\n",
              "      <td>Sway Medical</td>\n",
              "      <td>MEDICAL</td>\n",
              "      <td>5.00</td>\n",
              "      <td>3</td>\n",
              "      <td>22.00</td>\n",
              "      <td>100</td>\n",
              "      <td>Free</td>\n",
              "      <td>0</td>\n",
              "      <td>Everyone</td>\n",
              "      <td>Medical</td>\n",
              "    </tr>\n",
              "    <tr>\n",
              "      <th>1247</th>\n",
              "      <td>Chat Kids - Chat Room For Kids</td>\n",
              "      <td>DATING</td>\n",
              "      <td>4.70</td>\n",
              "      <td>6</td>\n",
              "      <td>4.90</td>\n",
              "      <td>100</td>\n",
              "      <td>Free</td>\n",
              "      <td>0</td>\n",
              "      <td>Mature 17+</td>\n",
              "      <td>Dating</td>\n",
              "    </tr>\n",
              "  </tbody>\n",
              "</table>\n",
              "</div>"
            ],
            "text/plain": [
              "                                             App  ...   Genres\n",
              "946                       420 BZ Budeze Delivery  ...  Medical\n",
              "1133                                 MouseMingle  ...   Dating\n",
              "1196  Cardiac diagnosis (heart rate, arrhythmia)  ...  Medical\n",
              "1231                                Sway Medical  ...  Medical\n",
              "1247              Chat Kids - Chat Room For Kids  ...   Dating\n",
              "\n",
              "[5 rows x 10 columns]"
            ]
          },
          "metadata": {
            "tags": []
          },
          "execution_count": 32
        }
      ]
    },
    {
      "cell_type": "code",
      "metadata": {
        "id": "GK2rP7wgn53-",
        "colab": {
          "base_uri": "https://localhost:8080/"
        },
        "outputId": "04fa1143-f118-47d1-c8c8-ea0969ceaa15"
      },
      "source": [
        "# Retrieving indexes where App is duplicated\n",
        "\n",
        "df_apps_clean.App[df_apps_clean.duplicated(subset='App').values == True]"
      ],
      "execution_count": 54,
      "outputs": [
        {
          "output_type": "execute_result",
          "data": {
            "text/plain": [
              "946                          420 BZ Budeze Delivery\n",
              "1133                                    MouseMingle\n",
              "1196     Cardiac diagnosis (heart rate, arrhythmia)\n",
              "1231                                   Sway Medical\n",
              "1247                 Chat Kids - Chat Room For Kids\n",
              "                            ...                    \n",
              "10836                                Subway Surfers\n",
              "10837                                Subway Surfers\n",
              "10838                                Subway Surfers\n",
              "10839                                Subway Surfers\n",
              "10840                                Subway Surfers\n",
              "Name: App, Length: 1170, dtype: object"
            ]
          },
          "metadata": {
            "tags": []
          },
          "execution_count": 54
        }
      ]
    },
    {
      "cell_type": "code",
      "metadata": {
        "colab": {
          "base_uri": "https://localhost:8080/",
          "height": 172
        },
        "id": "4qOo5jJsGzkP",
        "outputId": "952c2325-f6d4-49c3-e3c5-b796cce8537f"
      },
      "source": [
        "# Check for an Individual duplicated App name\n",
        "\n",
        "df_apps_clean[df_apps_clean.App == 'Instagram']"
      ],
      "execution_count": 53,
      "outputs": [
        {
          "output_type": "execute_result",
          "data": {
            "text/html": [
              "<div>\n",
              "<style scoped>\n",
              "    .dataframe tbody tr th:only-of-type {\n",
              "        vertical-align: middle;\n",
              "    }\n",
              "\n",
              "    .dataframe tbody tr th {\n",
              "        vertical-align: top;\n",
              "    }\n",
              "\n",
              "    .dataframe thead th {\n",
              "        text-align: right;\n",
              "    }\n",
              "</style>\n",
              "<table border=\"1\" class=\"dataframe\">\n",
              "  <thead>\n",
              "    <tr style=\"text-align: right;\">\n",
              "      <th></th>\n",
              "      <th>App</th>\n",
              "      <th>Category</th>\n",
              "      <th>Rating</th>\n",
              "      <th>Reviews</th>\n",
              "      <th>Size_MBs</th>\n",
              "      <th>Installs</th>\n",
              "      <th>Type</th>\n",
              "      <th>Price</th>\n",
              "      <th>Content_Rating</th>\n",
              "      <th>Genres</th>\n",
              "    </tr>\n",
              "  </thead>\n",
              "  <tbody>\n",
              "    <tr>\n",
              "      <th>10806</th>\n",
              "      <td>Instagram</td>\n",
              "      <td>SOCIAL</td>\n",
              "      <td>4.50</td>\n",
              "      <td>66577313</td>\n",
              "      <td>5.30</td>\n",
              "      <td>1,000,000,000</td>\n",
              "      <td>Free</td>\n",
              "      <td>0</td>\n",
              "      <td>Teen</td>\n",
              "      <td>Social</td>\n",
              "    </tr>\n",
              "    <tr>\n",
              "      <th>10808</th>\n",
              "      <td>Instagram</td>\n",
              "      <td>SOCIAL</td>\n",
              "      <td>4.50</td>\n",
              "      <td>66577446</td>\n",
              "      <td>5.30</td>\n",
              "      <td>1,000,000,000</td>\n",
              "      <td>Free</td>\n",
              "      <td>0</td>\n",
              "      <td>Teen</td>\n",
              "      <td>Social</td>\n",
              "    </tr>\n",
              "    <tr>\n",
              "      <th>10809</th>\n",
              "      <td>Instagram</td>\n",
              "      <td>SOCIAL</td>\n",
              "      <td>4.50</td>\n",
              "      <td>66577313</td>\n",
              "      <td>5.30</td>\n",
              "      <td>1,000,000,000</td>\n",
              "      <td>Free</td>\n",
              "      <td>0</td>\n",
              "      <td>Teen</td>\n",
              "      <td>Social</td>\n",
              "    </tr>\n",
              "    <tr>\n",
              "      <th>10810</th>\n",
              "      <td>Instagram</td>\n",
              "      <td>SOCIAL</td>\n",
              "      <td>4.50</td>\n",
              "      <td>66509917</td>\n",
              "      <td>5.30</td>\n",
              "      <td>1,000,000,000</td>\n",
              "      <td>Free</td>\n",
              "      <td>0</td>\n",
              "      <td>Teen</td>\n",
              "      <td>Social</td>\n",
              "    </tr>\n",
              "  </tbody>\n",
              "</table>\n",
              "</div>"
            ],
            "text/plain": [
              "             App Category  Rating   Reviews  ...  Type Price Content_Rating  Genres\n",
              "10806  Instagram   SOCIAL    4.50  66577313  ...  Free     0           Teen  Social\n",
              "10808  Instagram   SOCIAL    4.50  66577446  ...  Free     0           Teen  Social\n",
              "10809  Instagram   SOCIAL    4.50  66577313  ...  Free     0           Teen  Social\n",
              "10810  Instagram   SOCIAL    4.50  66509917  ...  Free     0           Teen  Social\n",
              "\n",
              "[4 rows x 10 columns]"
            ]
          },
          "metadata": {
            "tags": []
          },
          "execution_count": 53
        }
      ]
    },
    {
      "cell_type": "code",
      "metadata": {
        "id": "Wtt09kiRn6GS",
        "colab": {
          "base_uri": "https://localhost:8080/",
          "height": 80
        },
        "outputId": "b9dd11f6-b75e-4d93-bedf-de13b4b79090"
      },
      "source": [
        "# Need to specify the subset for Identifying duplicates\n",
        "df_apps_clean = df_apps_clean.drop_duplicates(subset=['App', 'Type', 'Price'])\n",
        "df_apps_clean[df_apps_clean.App == 'ROBLOX']"
      ],
      "execution_count": 68,
      "outputs": [
        {
          "output_type": "execute_result",
          "data": {
            "text/html": [
              "<div>\n",
              "<style scoped>\n",
              "    .dataframe tbody tr th:only-of-type {\n",
              "        vertical-align: middle;\n",
              "    }\n",
              "\n",
              "    .dataframe tbody tr th {\n",
              "        vertical-align: top;\n",
              "    }\n",
              "\n",
              "    .dataframe thead th {\n",
              "        text-align: right;\n",
              "    }\n",
              "</style>\n",
              "<table border=\"1\" class=\"dataframe\">\n",
              "  <thead>\n",
              "    <tr style=\"text-align: right;\">\n",
              "      <th></th>\n",
              "      <th>App</th>\n",
              "      <th>Category</th>\n",
              "      <th>Rating</th>\n",
              "      <th>Reviews</th>\n",
              "      <th>Size_MBs</th>\n",
              "      <th>Installs</th>\n",
              "      <th>Type</th>\n",
              "      <th>Price</th>\n",
              "      <th>Content_Rating</th>\n",
              "      <th>Genres</th>\n",
              "    </tr>\n",
              "  </thead>\n",
              "  <tbody>\n",
              "    <tr>\n",
              "      <th>10614</th>\n",
              "      <td>ROBLOX</td>\n",
              "      <td>GAME</td>\n",
              "      <td>4.50</td>\n",
              "      <td>4447388</td>\n",
              "      <td>67.00</td>\n",
              "      <td>100,000,000</td>\n",
              "      <td>Free</td>\n",
              "      <td>0</td>\n",
              "      <td>Everyone 10+</td>\n",
              "      <td>Adventure;Action &amp; Adventure</td>\n",
              "    </tr>\n",
              "  </tbody>\n",
              "</table>\n",
              "</div>"
            ],
            "text/plain": [
              "          App Category  ...  Content_Rating                        Genres\n",
              "10614  ROBLOX     GAME  ...    Everyone 10+  Adventure;Action & Adventure\n",
              "\n",
              "[1 rows x 10 columns]"
            ]
          },
          "metadata": {
            "tags": []
          },
          "execution_count": 68
        }
      ]
    },
    {
      "cell_type": "code",
      "metadata": {
        "id": "30yZCwtKn5xC",
        "colab": {
          "base_uri": "https://localhost:8080/"
        },
        "outputId": "a3e9642b-a7cd-45d1-e38d-8915a8a1d39d"
      },
      "source": [
        "df_apps_clean.shape"
      ],
      "execution_count": 65,
      "outputs": [
        {
          "output_type": "execute_result",
          "data": {
            "text/plain": [
              "(8199, 10)"
            ]
          },
          "metadata": {
            "tags": []
          },
          "execution_count": 65
        }
      ]
    },
    {
      "cell_type": "code",
      "metadata": {
        "id": "AagS_wgWn5ib",
        "colab": {
          "base_uri": "https://localhost:8080/"
        },
        "outputId": "b4ca403d-57cb-4807-a1ec-93fc19388d29"
      },
      "source": [
        "# Rechecking whether there is any duplicated App\n",
        "\n",
        "df_apps_clean.App[df_apps_clean.duplicated(subset='App').values == True]"
      ],
      "execution_count": 69,
      "outputs": [
        {
          "output_type": "execute_result",
          "data": {
            "text/plain": [
              "5510     Cardiac diagnosis (heart rate, arrhythmia)\n",
              "10479                                    Calculator\n",
              "Name: App, dtype: object"
            ]
          },
          "metadata": {
            "tags": []
          },
          "execution_count": 69
        }
      ]
    },
    {
      "cell_type": "code",
      "metadata": {
        "colab": {
          "base_uri": "https://localhost:8080/",
          "height": 110
        },
        "id": "_jb_p5lVMUJ0",
        "outputId": "4c31a80f-9e52-4f13-cfbf-fb4ada4e5642"
      },
      "source": [
        "# From the above output it's showing two apps having same name\n",
        "# But when we checked that app name both are having different types\n",
        "\n",
        "df_apps_clean[df_apps_clean.App == 'Cardiac diagnosis (heart rate, arrhythmia)']"
      ],
      "execution_count": 71,
      "outputs": [
        {
          "output_type": "execute_result",
          "data": {
            "text/html": [
              "<div>\n",
              "<style scoped>\n",
              "    .dataframe tbody tr th:only-of-type {\n",
              "        vertical-align: middle;\n",
              "    }\n",
              "\n",
              "    .dataframe tbody tr th {\n",
              "        vertical-align: top;\n",
              "    }\n",
              "\n",
              "    .dataframe thead th {\n",
              "        text-align: right;\n",
              "    }\n",
              "</style>\n",
              "<table border=\"1\" class=\"dataframe\">\n",
              "  <thead>\n",
              "    <tr style=\"text-align: right;\">\n",
              "      <th></th>\n",
              "      <th>App</th>\n",
              "      <th>Category</th>\n",
              "      <th>Rating</th>\n",
              "      <th>Reviews</th>\n",
              "      <th>Size_MBs</th>\n",
              "      <th>Installs</th>\n",
              "      <th>Type</th>\n",
              "      <th>Price</th>\n",
              "      <th>Content_Rating</th>\n",
              "      <th>Genres</th>\n",
              "    </tr>\n",
              "  </thead>\n",
              "  <tbody>\n",
              "    <tr>\n",
              "      <th>1195</th>\n",
              "      <td>Cardiac diagnosis (heart rate, arrhythmia)</td>\n",
              "      <td>MEDICAL</td>\n",
              "      <td>4.40</td>\n",
              "      <td>8</td>\n",
              "      <td>6.50</td>\n",
              "      <td>100</td>\n",
              "      <td>Paid</td>\n",
              "      <td>$12.99</td>\n",
              "      <td>Everyone</td>\n",
              "      <td>Medical</td>\n",
              "    </tr>\n",
              "    <tr>\n",
              "      <th>5510</th>\n",
              "      <td>Cardiac diagnosis (heart rate, arrhythmia)</td>\n",
              "      <td>MEDICAL</td>\n",
              "      <td>4.20</td>\n",
              "      <td>4559</td>\n",
              "      <td>6.40</td>\n",
              "      <td>100,000</td>\n",
              "      <td>Free</td>\n",
              "      <td>0</td>\n",
              "      <td>Everyone</td>\n",
              "      <td>Medical</td>\n",
              "    </tr>\n",
              "  </tbody>\n",
              "</table>\n",
              "</div>"
            ],
            "text/plain": [
              "                                             App  ...   Genres\n",
              "1195  Cardiac diagnosis (heart rate, arrhythmia)  ...  Medical\n",
              "5510  Cardiac diagnosis (heart rate, arrhythmia)  ...  Medical\n",
              "\n",
              "[2 rows x 10 columns]"
            ]
          },
          "metadata": {
            "tags": []
          },
          "execution_count": 71
        }
      ]
    },
    {
      "cell_type": "markdown",
      "metadata": {
        "id": "GJrM69CfdiUh"
      },
      "source": [
        "# Find Highest Rated Apps\n",
        "\n",
        "**Challenge**: Identify which apps are the highest rated. What problem might you encounter if you rely exclusively on ratings alone to determine the quality of an app?"
      ]
    },
    {
      "cell_type": "code",
      "metadata": {
        "id": "rp7vFHBMn7st",
        "colab": {
          "base_uri": "https://localhost:8080/",
          "height": 203
        },
        "outputId": "350989a9-e9fc-4e40-a6c3-08f7e7a3f87d"
      },
      "source": [
        "df_apps_clean.sort_values('Rating', ascending=False).head()"
      ],
      "execution_count": 73,
      "outputs": [
        {
          "output_type": "execute_result",
          "data": {
            "text/html": [
              "<div>\n",
              "<style scoped>\n",
              "    .dataframe tbody tr th:only-of-type {\n",
              "        vertical-align: middle;\n",
              "    }\n",
              "\n",
              "    .dataframe tbody tr th {\n",
              "        vertical-align: top;\n",
              "    }\n",
              "\n",
              "    .dataframe thead th {\n",
              "        text-align: right;\n",
              "    }\n",
              "</style>\n",
              "<table border=\"1\" class=\"dataframe\">\n",
              "  <thead>\n",
              "    <tr style=\"text-align: right;\">\n",
              "      <th></th>\n",
              "      <th>App</th>\n",
              "      <th>Category</th>\n",
              "      <th>Rating</th>\n",
              "      <th>Reviews</th>\n",
              "      <th>Size_MBs</th>\n",
              "      <th>Installs</th>\n",
              "      <th>Type</th>\n",
              "      <th>Price</th>\n",
              "      <th>Content_Rating</th>\n",
              "      <th>Genres</th>\n",
              "    </tr>\n",
              "  </thead>\n",
              "  <tbody>\n",
              "    <tr>\n",
              "      <th>21</th>\n",
              "      <td>KBA-EZ Health Guide</td>\n",
              "      <td>MEDICAL</td>\n",
              "      <td>5.00</td>\n",
              "      <td>4</td>\n",
              "      <td>25.00</td>\n",
              "      <td>1</td>\n",
              "      <td>Free</td>\n",
              "      <td>0</td>\n",
              "      <td>Everyone</td>\n",
              "      <td>Medical</td>\n",
              "    </tr>\n",
              "    <tr>\n",
              "      <th>1230</th>\n",
              "      <td>Sway Medical</td>\n",
              "      <td>MEDICAL</td>\n",
              "      <td>5.00</td>\n",
              "      <td>3</td>\n",
              "      <td>22.00</td>\n",
              "      <td>100</td>\n",
              "      <td>Free</td>\n",
              "      <td>0</td>\n",
              "      <td>Everyone</td>\n",
              "      <td>Medical</td>\n",
              "    </tr>\n",
              "    <tr>\n",
              "      <th>1227</th>\n",
              "      <td>AJ Men's Grooming</td>\n",
              "      <td>LIFESTYLE</td>\n",
              "      <td>5.00</td>\n",
              "      <td>2</td>\n",
              "      <td>22.00</td>\n",
              "      <td>100</td>\n",
              "      <td>Free</td>\n",
              "      <td>0</td>\n",
              "      <td>Everyone</td>\n",
              "      <td>Lifestyle</td>\n",
              "    </tr>\n",
              "    <tr>\n",
              "      <th>1224</th>\n",
              "      <td>FK Dedinje BGD</td>\n",
              "      <td>SPORTS</td>\n",
              "      <td>5.00</td>\n",
              "      <td>36</td>\n",
              "      <td>2.60</td>\n",
              "      <td>100</td>\n",
              "      <td>Free</td>\n",
              "      <td>0</td>\n",
              "      <td>Everyone</td>\n",
              "      <td>Sports</td>\n",
              "    </tr>\n",
              "    <tr>\n",
              "      <th>1223</th>\n",
              "      <td>CB VIDEO VISION</td>\n",
              "      <td>PHOTOGRAPHY</td>\n",
              "      <td>5.00</td>\n",
              "      <td>13</td>\n",
              "      <td>2.60</td>\n",
              "      <td>100</td>\n",
              "      <td>Free</td>\n",
              "      <td>0</td>\n",
              "      <td>Everyone</td>\n",
              "      <td>Photography</td>\n",
              "    </tr>\n",
              "  </tbody>\n",
              "</table>\n",
              "</div>"
            ],
            "text/plain": [
              "                      App     Category  ...  Content_Rating       Genres\n",
              "21    KBA-EZ Health Guide      MEDICAL  ...        Everyone      Medical\n",
              "1230         Sway Medical      MEDICAL  ...        Everyone      Medical\n",
              "1227    AJ Men's Grooming    LIFESTYLE  ...        Everyone    Lifestyle\n",
              "1224       FK Dedinje BGD       SPORTS  ...        Everyone       Sports\n",
              "1223      CB VIDEO VISION  PHOTOGRAPHY  ...        Everyone  Photography\n",
              "\n",
              "[5 rows x 10 columns]"
            ]
          },
          "metadata": {
            "tags": []
          },
          "execution_count": 73
        }
      ]
    },
    {
      "cell_type": "markdown",
      "metadata": {
        "id": "28o1Tro4diUi"
      },
      "source": [
        "# Find 5 Largest Apps in terms of Size (MBs)\n",
        "\n",
        "**Challenge**: What's the size in megabytes (MB) of the largest Android apps in the Google Play Store. Based on the data, do you think there could be limit in place or can developers make apps as large as they please? "
      ]
    },
    {
      "cell_type": "code",
      "metadata": {
        "id": "n5r0pJCOn9Vu",
        "colab": {
          "base_uri": "https://localhost:8080/",
          "height": 220
        },
        "outputId": "7e420957-54a1-4757-8546-35c649545927"
      },
      "source": [
        "df_apps_clean.sort_values('Size_MBs', ascending=False).head()"
      ],
      "execution_count": 74,
      "outputs": [
        {
          "output_type": "execute_result",
          "data": {
            "text/html": [
              "<div>\n",
              "<style scoped>\n",
              "    .dataframe tbody tr th:only-of-type {\n",
              "        vertical-align: middle;\n",
              "    }\n",
              "\n",
              "    .dataframe tbody tr th {\n",
              "        vertical-align: top;\n",
              "    }\n",
              "\n",
              "    .dataframe thead th {\n",
              "        text-align: right;\n",
              "    }\n",
              "</style>\n",
              "<table border=\"1\" class=\"dataframe\">\n",
              "  <thead>\n",
              "    <tr style=\"text-align: right;\">\n",
              "      <th></th>\n",
              "      <th>App</th>\n",
              "      <th>Category</th>\n",
              "      <th>Rating</th>\n",
              "      <th>Reviews</th>\n",
              "      <th>Size_MBs</th>\n",
              "      <th>Installs</th>\n",
              "      <th>Type</th>\n",
              "      <th>Price</th>\n",
              "      <th>Content_Rating</th>\n",
              "      <th>Genres</th>\n",
              "    </tr>\n",
              "  </thead>\n",
              "  <tbody>\n",
              "    <tr>\n",
              "      <th>9942</th>\n",
              "      <td>Talking Babsy Baby: Baby Games</td>\n",
              "      <td>LIFESTYLE</td>\n",
              "      <td>4.00</td>\n",
              "      <td>140995</td>\n",
              "      <td>100.00</td>\n",
              "      <td>10,000,000</td>\n",
              "      <td>Free</td>\n",
              "      <td>0</td>\n",
              "      <td>Everyone</td>\n",
              "      <td>Lifestyle;Pretend Play</td>\n",
              "    </tr>\n",
              "    <tr>\n",
              "      <th>10687</th>\n",
              "      <td>Hungry Shark Evolution</td>\n",
              "      <td>GAME</td>\n",
              "      <td>4.50</td>\n",
              "      <td>6074334</td>\n",
              "      <td>100.00</td>\n",
              "      <td>100,000,000</td>\n",
              "      <td>Free</td>\n",
              "      <td>0</td>\n",
              "      <td>Teen</td>\n",
              "      <td>Arcade</td>\n",
              "    </tr>\n",
              "    <tr>\n",
              "      <th>9943</th>\n",
              "      <td>Miami crime simulator</td>\n",
              "      <td>GAME</td>\n",
              "      <td>4.00</td>\n",
              "      <td>254518</td>\n",
              "      <td>100.00</td>\n",
              "      <td>10,000,000</td>\n",
              "      <td>Free</td>\n",
              "      <td>0</td>\n",
              "      <td>Mature 17+</td>\n",
              "      <td>Action</td>\n",
              "    </tr>\n",
              "    <tr>\n",
              "      <th>9944</th>\n",
              "      <td>Gangster Town: Vice District</td>\n",
              "      <td>FAMILY</td>\n",
              "      <td>4.30</td>\n",
              "      <td>65146</td>\n",
              "      <td>100.00</td>\n",
              "      <td>10,000,000</td>\n",
              "      <td>Free</td>\n",
              "      <td>0</td>\n",
              "      <td>Mature 17+</td>\n",
              "      <td>Simulation</td>\n",
              "    </tr>\n",
              "    <tr>\n",
              "      <th>3144</th>\n",
              "      <td>Vi Trainer</td>\n",
              "      <td>HEALTH_AND_FITNESS</td>\n",
              "      <td>3.60</td>\n",
              "      <td>124</td>\n",
              "      <td>100.00</td>\n",
              "      <td>5,000</td>\n",
              "      <td>Free</td>\n",
              "      <td>0</td>\n",
              "      <td>Everyone</td>\n",
              "      <td>Health &amp; Fitness</td>\n",
              "    </tr>\n",
              "  </tbody>\n",
              "</table>\n",
              "</div>"
            ],
            "text/plain": [
              "                                  App  ...                  Genres\n",
              "9942   Talking Babsy Baby: Baby Games  ...  Lifestyle;Pretend Play\n",
              "10687          Hungry Shark Evolution  ...                  Arcade\n",
              "9943            Miami crime simulator  ...                  Action\n",
              "9944     Gangster Town: Vice District  ...              Simulation\n",
              "3144                       Vi Trainer  ...        Health & Fitness\n",
              "\n",
              "[5 rows x 10 columns]"
            ]
          },
          "metadata": {
            "tags": []
          },
          "execution_count": 74
        }
      ]
    },
    {
      "cell_type": "markdown",
      "metadata": {
        "id": "C3gTckh7diUk"
      },
      "source": [
        "# Find the 5 App with Most Reviews\n",
        "\n",
        "**Challenge**: Which apps have the highest number of reviews? Are there any paid apps among the top 50?"
      ]
    },
    {
      "cell_type": "code",
      "metadata": {
        "id": "TLt98G0Sn_De",
        "colab": {
          "base_uri": "https://localhost:8080/",
          "height": 1000
        },
        "outputId": "5a3db8b7-511c-4761-e95f-7e5772c6fa9b"
      },
      "source": [
        "df_apps_clean.sort_values('Reviews', ascending=False).head(50)"
      ],
      "execution_count": 82,
      "outputs": [
        {
          "output_type": "execute_result",
          "data": {
            "text/html": [
              "<div>\n",
              "<style scoped>\n",
              "    .dataframe tbody tr th:only-of-type {\n",
              "        vertical-align: middle;\n",
              "    }\n",
              "\n",
              "    .dataframe tbody tr th {\n",
              "        vertical-align: top;\n",
              "    }\n",
              "\n",
              "    .dataframe thead th {\n",
              "        text-align: right;\n",
              "    }\n",
              "</style>\n",
              "<table border=\"1\" class=\"dataframe\">\n",
              "  <thead>\n",
              "    <tr style=\"text-align: right;\">\n",
              "      <th></th>\n",
              "      <th>App</th>\n",
              "      <th>Category</th>\n",
              "      <th>Rating</th>\n",
              "      <th>Reviews</th>\n",
              "      <th>Size_MBs</th>\n",
              "      <th>Installs</th>\n",
              "      <th>Type</th>\n",
              "      <th>Price</th>\n",
              "      <th>Content_Rating</th>\n",
              "      <th>Genres</th>\n",
              "    </tr>\n",
              "  </thead>\n",
              "  <tbody>\n",
              "    <tr>\n",
              "      <th>10805</th>\n",
              "      <td>Facebook</td>\n",
              "      <td>SOCIAL</td>\n",
              "      <td>4.10</td>\n",
              "      <td>78158306</td>\n",
              "      <td>5.30</td>\n",
              "      <td>1,000,000,000</td>\n",
              "      <td>Free</td>\n",
              "      <td>0</td>\n",
              "      <td>Teen</td>\n",
              "      <td>Social</td>\n",
              "    </tr>\n",
              "    <tr>\n",
              "      <th>10785</th>\n",
              "      <td>WhatsApp Messenger</td>\n",
              "      <td>COMMUNICATION</td>\n",
              "      <td>4.40</td>\n",
              "      <td>69119316</td>\n",
              "      <td>3.50</td>\n",
              "      <td>1,000,000,000</td>\n",
              "      <td>Free</td>\n",
              "      <td>0</td>\n",
              "      <td>Everyone</td>\n",
              "      <td>Communication</td>\n",
              "    </tr>\n",
              "    <tr>\n",
              "      <th>10806</th>\n",
              "      <td>Instagram</td>\n",
              "      <td>SOCIAL</td>\n",
              "      <td>4.50</td>\n",
              "      <td>66577313</td>\n",
              "      <td>5.30</td>\n",
              "      <td>1,000,000,000</td>\n",
              "      <td>Free</td>\n",
              "      <td>0</td>\n",
              "      <td>Teen</td>\n",
              "      <td>Social</td>\n",
              "    </tr>\n",
              "    <tr>\n",
              "      <th>10784</th>\n",
              "      <td>Messenger – Text and Video Chat for Free</td>\n",
              "      <td>COMMUNICATION</td>\n",
              "      <td>4.00</td>\n",
              "      <td>56642847</td>\n",
              "      <td>3.50</td>\n",
              "      <td>1,000,000,000</td>\n",
              "      <td>Free</td>\n",
              "      <td>0</td>\n",
              "      <td>Everyone</td>\n",
              "      <td>Communication</td>\n",
              "    </tr>\n",
              "    <tr>\n",
              "      <th>10650</th>\n",
              "      <td>Clash of Clans</td>\n",
              "      <td>GAME</td>\n",
              "      <td>4.60</td>\n",
              "      <td>44891723</td>\n",
              "      <td>98.00</td>\n",
              "      <td>100,000,000</td>\n",
              "      <td>Free</td>\n",
              "      <td>0</td>\n",
              "      <td>Everyone 10+</td>\n",
              "      <td>Strategy</td>\n",
              "    </tr>\n",
              "    <tr>\n",
              "      <th>10744</th>\n",
              "      <td>Clean Master- Space Cleaner &amp; Antivirus</td>\n",
              "      <td>TOOLS</td>\n",
              "      <td>4.70</td>\n",
              "      <td>42916526</td>\n",
              "      <td>3.40</td>\n",
              "      <td>500,000,000</td>\n",
              "      <td>Free</td>\n",
              "      <td>0</td>\n",
              "      <td>Everyone</td>\n",
              "      <td>Tools</td>\n",
              "    </tr>\n",
              "    <tr>\n",
              "      <th>10835</th>\n",
              "      <td>Subway Surfers</td>\n",
              "      <td>GAME</td>\n",
              "      <td>4.50</td>\n",
              "      <td>27722264</td>\n",
              "      <td>76.00</td>\n",
              "      <td>1,000,000,000</td>\n",
              "      <td>Free</td>\n",
              "      <td>0</td>\n",
              "      <td>Everyone 10+</td>\n",
              "      <td>Arcade</td>\n",
              "    </tr>\n",
              "    <tr>\n",
              "      <th>10828</th>\n",
              "      <td>YouTube</td>\n",
              "      <td>VIDEO_PLAYERS</td>\n",
              "      <td>4.30</td>\n",
              "      <td>25655305</td>\n",
              "      <td>4.65</td>\n",
              "      <td>1,000,000,000</td>\n",
              "      <td>Free</td>\n",
              "      <td>0</td>\n",
              "      <td>Teen</td>\n",
              "      <td>Video Players &amp; Editors</td>\n",
              "    </tr>\n",
              "    <tr>\n",
              "      <th>10746</th>\n",
              "      <td>Security Master - Antivirus, VPN, AppLock, Boo...</td>\n",
              "      <td>TOOLS</td>\n",
              "      <td>4.70</td>\n",
              "      <td>24900999</td>\n",
              "      <td>3.40</td>\n",
              "      <td>500,000,000</td>\n",
              "      <td>Free</td>\n",
              "      <td>0</td>\n",
              "      <td>Everyone</td>\n",
              "      <td>Tools</td>\n",
              "    </tr>\n",
              "    <tr>\n",
              "      <th>10584</th>\n",
              "      <td>Clash Royale</td>\n",
              "      <td>GAME</td>\n",
              "      <td>4.60</td>\n",
              "      <td>23133508</td>\n",
              "      <td>97.00</td>\n",
              "      <td>100,000,000</td>\n",
              "      <td>Free</td>\n",
              "      <td>0</td>\n",
              "      <td>Everyone 10+</td>\n",
              "      <td>Strategy</td>\n",
              "    </tr>\n",
              "    <tr>\n",
              "      <th>10763</th>\n",
              "      <td>Candy Crush Saga</td>\n",
              "      <td>GAME</td>\n",
              "      <td>4.40</td>\n",
              "      <td>22426677</td>\n",
              "      <td>74.00</td>\n",
              "      <td>500,000,000</td>\n",
              "      <td>Free</td>\n",
              "      <td>0</td>\n",
              "      <td>Everyone</td>\n",
              "      <td>Casual</td>\n",
              "    </tr>\n",
              "    <tr>\n",
              "      <th>10770</th>\n",
              "      <td>UC Browser - Fast Download Private &amp; Secure</td>\n",
              "      <td>COMMUNICATION</td>\n",
              "      <td>4.50</td>\n",
              "      <td>17712922</td>\n",
              "      <td>40.00</td>\n",
              "      <td>500,000,000</td>\n",
              "      <td>Free</td>\n",
              "      <td>0</td>\n",
              "      <td>Teen</td>\n",
              "      <td>Communication</td>\n",
              "    </tr>\n",
              "    <tr>\n",
              "      <th>10735</th>\n",
              "      <td>Snapchat</td>\n",
              "      <td>SOCIAL</td>\n",
              "      <td>4.00</td>\n",
              "      <td>17014787</td>\n",
              "      <td>5.30</td>\n",
              "      <td>500,000,000</td>\n",
              "      <td>Free</td>\n",
              "      <td>0</td>\n",
              "      <td>Teen</td>\n",
              "      <td>Social</td>\n",
              "    </tr>\n",
              "    <tr>\n",
              "      <th>10489</th>\n",
              "      <td>360 Security - Free Antivirus, Booster, Cleaner</td>\n",
              "      <td>TOOLS</td>\n",
              "      <td>4.60</td>\n",
              "      <td>16771865</td>\n",
              "      <td>3.40</td>\n",
              "      <td>100,000,000</td>\n",
              "      <td>Free</td>\n",
              "      <td>0</td>\n",
              "      <td>Everyone</td>\n",
              "      <td>Tools</td>\n",
              "    </tr>\n",
              "    <tr>\n",
              "      <th>10731</th>\n",
              "      <td>My Talking Tom</td>\n",
              "      <td>GAME</td>\n",
              "      <td>4.50</td>\n",
              "      <td>14891223</td>\n",
              "      <td>36.00</td>\n",
              "      <td>500,000,000</td>\n",
              "      <td>Free</td>\n",
              "      <td>0</td>\n",
              "      <td>Everyone</td>\n",
              "      <td>Casual</td>\n",
              "    </tr>\n",
              "    <tr>\n",
              "      <th>10594</th>\n",
              "      <td>8 Ball Pool</td>\n",
              "      <td>GAME</td>\n",
              "      <td>4.50</td>\n",
              "      <td>14198297</td>\n",
              "      <td>52.00</td>\n",
              "      <td>100,000,000</td>\n",
              "      <td>Free</td>\n",
              "      <td>0</td>\n",
              "      <td>Everyone</td>\n",
              "      <td>Sports</td>\n",
              "    </tr>\n",
              "    <tr>\n",
              "      <th>10302</th>\n",
              "      <td>DU Battery Saver - Battery Charger &amp; Battery Life</td>\n",
              "      <td>TOOLS</td>\n",
              "      <td>4.50</td>\n",
              "      <td>13479633</td>\n",
              "      <td>14.00</td>\n",
              "      <td>100,000,000</td>\n",
              "      <td>Free</td>\n",
              "      <td>0</td>\n",
              "      <td>Everyone</td>\n",
              "      <td>Tools</td>\n",
              "    </tr>\n",
              "    <tr>\n",
              "      <th>10354</th>\n",
              "      <td>BBM - Free Calls &amp; Messages</td>\n",
              "      <td>COMMUNICATION</td>\n",
              "      <td>4.30</td>\n",
              "      <td>12842860</td>\n",
              "      <td>3.50</td>\n",
              "      <td>100,000,000</td>\n",
              "      <td>Free</td>\n",
              "      <td>0</td>\n",
              "      <td>Everyone</td>\n",
              "      <td>Communication</td>\n",
              "    </tr>\n",
              "    <tr>\n",
              "      <th>10549</th>\n",
              "      <td>Cache Cleaner-DU Speed Booster (booster &amp; clea...</td>\n",
              "      <td>TOOLS</td>\n",
              "      <td>4.50</td>\n",
              "      <td>12759663</td>\n",
              "      <td>15.00</td>\n",
              "      <td>100,000,000</td>\n",
              "      <td>Free</td>\n",
              "      <td>0</td>\n",
              "      <td>Everyone</td>\n",
              "      <td>Tools</td>\n",
              "    </tr>\n",
              "    <tr>\n",
              "      <th>10757</th>\n",
              "      <td>Twitter</td>\n",
              "      <td>NEWS_AND_MAGAZINES</td>\n",
              "      <td>4.30</td>\n",
              "      <td>11667403</td>\n",
              "      <td>6.30</td>\n",
              "      <td>500,000,000</td>\n",
              "      <td>Free</td>\n",
              "      <td>0</td>\n",
              "      <td>Mature 17+</td>\n",
              "      <td>News &amp; Magazines</td>\n",
              "    </tr>\n",
              "    <tr>\n",
              "      <th>10721</th>\n",
              "      <td>Viber Messenger</td>\n",
              "      <td>COMMUNICATION</td>\n",
              "      <td>4.30</td>\n",
              "      <td>11334799</td>\n",
              "      <td>3.50</td>\n",
              "      <td>500,000,000</td>\n",
              "      <td>Free</td>\n",
              "      <td>0</td>\n",
              "      <td>Everyone</td>\n",
              "      <td>Communication</td>\n",
              "    </tr>\n",
              "    <tr>\n",
              "      <th>10578</th>\n",
              "      <td>Shadow Fight 2</td>\n",
              "      <td>GAME</td>\n",
              "      <td>4.60</td>\n",
              "      <td>10979062</td>\n",
              "      <td>88.00</td>\n",
              "      <td>100,000,000</td>\n",
              "      <td>Free</td>\n",
              "      <td>0</td>\n",
              "      <td>Everyone 10+</td>\n",
              "      <td>Action</td>\n",
              "    </tr>\n",
              "    <tr>\n",
              "      <th>10813</th>\n",
              "      <td>Google Photos</td>\n",
              "      <td>PHOTOGRAPHY</td>\n",
              "      <td>4.50</td>\n",
              "      <td>10858556</td>\n",
              "      <td>6.90</td>\n",
              "      <td>1,000,000,000</td>\n",
              "      <td>Free</td>\n",
              "      <td>0</td>\n",
              "      <td>Everyone</td>\n",
              "      <td>Photography</td>\n",
              "    </tr>\n",
              "    <tr>\n",
              "      <th>10724</th>\n",
              "      <td>LINE: Free Calls &amp; Messages</td>\n",
              "      <td>COMMUNICATION</td>\n",
              "      <td>4.20</td>\n",
              "      <td>10790289</td>\n",
              "      <td>3.50</td>\n",
              "      <td>500,000,000</td>\n",
              "      <td>Free</td>\n",
              "      <td>0</td>\n",
              "      <td>Everyone</td>\n",
              "      <td>Communication</td>\n",
              "    </tr>\n",
              "    <tr>\n",
              "      <th>10717</th>\n",
              "      <td>Pou</td>\n",
              "      <td>GAME</td>\n",
              "      <td>4.30</td>\n",
              "      <td>10485308</td>\n",
              "      <td>24.00</td>\n",
              "      <td>500,000,000</td>\n",
              "      <td>Free</td>\n",
              "      <td>0</td>\n",
              "      <td>Everyone</td>\n",
              "      <td>Casual</td>\n",
              "    </tr>\n",
              "    <tr>\n",
              "      <th>10792</th>\n",
              "      <td>Skype - free IM &amp; video calls</td>\n",
              "      <td>COMMUNICATION</td>\n",
              "      <td>4.10</td>\n",
              "      <td>10484169</td>\n",
              "      <td>3.50</td>\n",
              "      <td>1,000,000,000</td>\n",
              "      <td>Free</td>\n",
              "      <td>0</td>\n",
              "      <td>Everyone</td>\n",
              "      <td>Communication</td>\n",
              "    </tr>\n",
              "    <tr>\n",
              "      <th>10628</th>\n",
              "      <td>Pokémon GO</td>\n",
              "      <td>GAME</td>\n",
              "      <td>4.10</td>\n",
              "      <td>10424925</td>\n",
              "      <td>85.00</td>\n",
              "      <td>100,000,000</td>\n",
              "      <td>Free</td>\n",
              "      <td>0</td>\n",
              "      <td>Everyone</td>\n",
              "      <td>Adventure</td>\n",
              "    </tr>\n",
              "    <tr>\n",
              "      <th>10388</th>\n",
              "      <td>Minion Rush: Despicable Me Official Game</td>\n",
              "      <td>GAME</td>\n",
              "      <td>4.50</td>\n",
              "      <td>10216538</td>\n",
              "      <td>36.00</td>\n",
              "      <td>100,000,000</td>\n",
              "      <td>Free</td>\n",
              "      <td>0</td>\n",
              "      <td>Everyone 10+</td>\n",
              "      <td>Casual;Action &amp; Adventure</td>\n",
              "    </tr>\n",
              "    <tr>\n",
              "      <th>10694</th>\n",
              "      <td>Yes day</td>\n",
              "      <td>GAME</td>\n",
              "      <td>4.50</td>\n",
              "      <td>10055521</td>\n",
              "      <td>94.00</td>\n",
              "      <td>100,000,000</td>\n",
              "      <td>Free</td>\n",
              "      <td>0</td>\n",
              "      <td>Everyone</td>\n",
              "      <td>Casual</td>\n",
              "    </tr>\n",
              "    <tr>\n",
              "      <th>10695</th>\n",
              "      <td>Hay Day</td>\n",
              "      <td>FAMILY</td>\n",
              "      <td>4.50</td>\n",
              "      <td>10053186</td>\n",
              "      <td>94.00</td>\n",
              "      <td>100,000,000</td>\n",
              "      <td>Free</td>\n",
              "      <td>0</td>\n",
              "      <td>Everyone</td>\n",
              "      <td>Casual</td>\n",
              "    </tr>\n",
              "    <tr>\n",
              "      <th>10644</th>\n",
              "      <td>Dream League Soccer 2018</td>\n",
              "      <td>GAME</td>\n",
              "      <td>4.60</td>\n",
              "      <td>9882639</td>\n",
              "      <td>74.00</td>\n",
              "      <td>100,000,000</td>\n",
              "      <td>Free</td>\n",
              "      <td>0</td>\n",
              "      <td>Everyone</td>\n",
              "      <td>Sports</td>\n",
              "    </tr>\n",
              "    <tr>\n",
              "      <th>10696</th>\n",
              "      <td>My Talking Angela</td>\n",
              "      <td>GAME</td>\n",
              "      <td>4.50</td>\n",
              "      <td>9881829</td>\n",
              "      <td>99.00</td>\n",
              "      <td>100,000,000</td>\n",
              "      <td>Free</td>\n",
              "      <td>0</td>\n",
              "      <td>Everyone</td>\n",
              "      <td>Casual</td>\n",
              "    </tr>\n",
              "    <tr>\n",
              "      <th>10660</th>\n",
              "      <td>VivaVideo - Video Editor &amp; Photo Movie</td>\n",
              "      <td>VIDEO_PLAYERS</td>\n",
              "      <td>4.60</td>\n",
              "      <td>9879473</td>\n",
              "      <td>40.00</td>\n",
              "      <td>100,000,000</td>\n",
              "      <td>Free</td>\n",
              "      <td>0</td>\n",
              "      <td>Teen</td>\n",
              "      <td>Video Players &amp; Editors</td>\n",
              "    </tr>\n",
              "    <tr>\n",
              "      <th>10786</th>\n",
              "      <td>Google Chrome: Fast &amp; Secure</td>\n",
              "      <td>COMMUNICATION</td>\n",
              "      <td>4.30</td>\n",
              "      <td>9642995</td>\n",
              "      <td>3.50</td>\n",
              "      <td>1,000,000,000</td>\n",
              "      <td>Free</td>\n",
              "      <td>0</td>\n",
              "      <td>Everyone</td>\n",
              "      <td>Communication</td>\n",
              "    </tr>\n",
              "    <tr>\n",
              "      <th>10817</th>\n",
              "      <td>Maps - Navigate &amp; Explore</td>\n",
              "      <td>TRAVEL_AND_LOCAL</td>\n",
              "      <td>4.30</td>\n",
              "      <td>9235155</td>\n",
              "      <td>12.00</td>\n",
              "      <td>1,000,000,000</td>\n",
              "      <td>Free</td>\n",
              "      <td>0</td>\n",
              "      <td>Everyone</td>\n",
              "      <td>Travel &amp; Local</td>\n",
              "    </tr>\n",
              "    <tr>\n",
              "      <th>10672</th>\n",
              "      <td>Hill Climb Racing</td>\n",
              "      <td>GAME</td>\n",
              "      <td>4.40</td>\n",
              "      <td>8923587</td>\n",
              "      <td>63.00</td>\n",
              "      <td>100,000,000</td>\n",
              "      <td>Free</td>\n",
              "      <td>0</td>\n",
              "      <td>Everyone</td>\n",
              "      <td>Racing</td>\n",
              "    </tr>\n",
              "    <tr>\n",
              "      <th>10734</th>\n",
              "      <td>Facebook Lite</td>\n",
              "      <td>SOCIAL</td>\n",
              "      <td>4.30</td>\n",
              "      <td>8606259</td>\n",
              "      <td>5.30</td>\n",
              "      <td>500,000,000</td>\n",
              "      <td>Free</td>\n",
              "      <td>0</td>\n",
              "      <td>Teen</td>\n",
              "      <td>Social</td>\n",
              "    </tr>\n",
              "    <tr>\n",
              "      <th>10649</th>\n",
              "      <td>Asphalt 8: Airborne</td>\n",
              "      <td>GAME</td>\n",
              "      <td>4.50</td>\n",
              "      <td>8389714</td>\n",
              "      <td>92.00</td>\n",
              "      <td>100,000,000</td>\n",
              "      <td>Free</td>\n",
              "      <td>0</td>\n",
              "      <td>Teen</td>\n",
              "      <td>Racing</td>\n",
              "    </tr>\n",
              "    <tr>\n",
              "      <th>10699</th>\n",
              "      <td>Mobile Legends: Bang Bang</td>\n",
              "      <td>GAME</td>\n",
              "      <td>4.40</td>\n",
              "      <td>8219586</td>\n",
              "      <td>99.00</td>\n",
              "      <td>100,000,000</td>\n",
              "      <td>Free</td>\n",
              "      <td>0</td>\n",
              "      <td>Teen</td>\n",
              "      <td>Action</td>\n",
              "    </tr>\n",
              "    <tr>\n",
              "      <th>10322</th>\n",
              "      <td>Battery Doctor-Battery Life Saver &amp; Battery Co...</td>\n",
              "      <td>TOOLS</td>\n",
              "      <td>4.50</td>\n",
              "      <td>8190074</td>\n",
              "      <td>17.00</td>\n",
              "      <td>100,000,000</td>\n",
              "      <td>Free</td>\n",
              "      <td>0</td>\n",
              "      <td>Everyone</td>\n",
              "      <td>Tools</td>\n",
              "    </tr>\n",
              "    <tr>\n",
              "      <th>10396</th>\n",
              "      <td>Piano Tiles 2™</td>\n",
              "      <td>GAME</td>\n",
              "      <td>4.70</td>\n",
              "      <td>8118880</td>\n",
              "      <td>36.00</td>\n",
              "      <td>100,000,000</td>\n",
              "      <td>Free</td>\n",
              "      <td>0</td>\n",
              "      <td>Everyone</td>\n",
              "      <td>Arcade</td>\n",
              "    </tr>\n",
              "    <tr>\n",
              "      <th>10777</th>\n",
              "      <td>Temple Run 2</td>\n",
              "      <td>GAME</td>\n",
              "      <td>4.30</td>\n",
              "      <td>8118609</td>\n",
              "      <td>62.00</td>\n",
              "      <td>500,000,000</td>\n",
              "      <td>Free</td>\n",
              "      <td>0</td>\n",
              "      <td>Everyone</td>\n",
              "      <td>Action</td>\n",
              "    </tr>\n",
              "    <tr>\n",
              "      <th>10822</th>\n",
              "      <td>Google</td>\n",
              "      <td>TOOLS</td>\n",
              "      <td>4.40</td>\n",
              "      <td>8033493</td>\n",
              "      <td>3.40</td>\n",
              "      <td>1,000,000,000</td>\n",
              "      <td>Free</td>\n",
              "      <td>0</td>\n",
              "      <td>Everyone</td>\n",
              "      <td>Tools</td>\n",
              "    </tr>\n",
              "    <tr>\n",
              "      <th>10359</th>\n",
              "      <td>Truecaller: Caller ID, SMS spam blocking &amp; Dialer</td>\n",
              "      <td>COMMUNICATION</td>\n",
              "      <td>4.50</td>\n",
              "      <td>7820209</td>\n",
              "      <td>3.50</td>\n",
              "      <td>100,000,000</td>\n",
              "      <td>Free</td>\n",
              "      <td>0</td>\n",
              "      <td>Everyone</td>\n",
              "      <td>Communication</td>\n",
              "    </tr>\n",
              "    <tr>\n",
              "      <th>10711</th>\n",
              "      <td>SHAREit - Transfer &amp; Share</td>\n",
              "      <td>TOOLS</td>\n",
              "      <td>4.60</td>\n",
              "      <td>7790693</td>\n",
              "      <td>17.00</td>\n",
              "      <td>500,000,000</td>\n",
              "      <td>Free</td>\n",
              "      <td>0</td>\n",
              "      <td>Everyone</td>\n",
              "      <td>Tools</td>\n",
              "    </tr>\n",
              "    <tr>\n",
              "      <th>10389</th>\n",
              "      <td>Sniper 3D Gun Shooter: Free Shooting Games - FPS</td>\n",
              "      <td>GAME</td>\n",
              "      <td>4.60</td>\n",
              "      <td>7671249</td>\n",
              "      <td>36.00</td>\n",
              "      <td>100,000,000</td>\n",
              "      <td>Free</td>\n",
              "      <td>0</td>\n",
              "      <td>Mature 17+</td>\n",
              "      <td>Action</td>\n",
              "    </tr>\n",
              "    <tr>\n",
              "      <th>10676</th>\n",
              "      <td>Farm Heroes Saga</td>\n",
              "      <td>GAME</td>\n",
              "      <td>4.40</td>\n",
              "      <td>7614130</td>\n",
              "      <td>70.00</td>\n",
              "      <td>100,000,000</td>\n",
              "      <td>Free</td>\n",
              "      <td>0</td>\n",
              "      <td>Everyone</td>\n",
              "      <td>Casual</td>\n",
              "    </tr>\n",
              "    <tr>\n",
              "      <th>10576</th>\n",
              "      <td>PicsArt Photo Studio: Collage Maker &amp; Pic Editor</td>\n",
              "      <td>PHOTOGRAPHY</td>\n",
              "      <td>4.50</td>\n",
              "      <td>7594559</td>\n",
              "      <td>34.00</td>\n",
              "      <td>100,000,000</td>\n",
              "      <td>Free</td>\n",
              "      <td>0</td>\n",
              "      <td>Teen</td>\n",
              "      <td>Photography</td>\n",
              "    </tr>\n",
              "    <tr>\n",
              "      <th>10461</th>\n",
              "      <td>PhotoGrid: Video &amp; Pic Collage Maker, Photo Ed...</td>\n",
              "      <td>PHOTOGRAPHY</td>\n",
              "      <td>4.60</td>\n",
              "      <td>7529865</td>\n",
              "      <td>6.90</td>\n",
              "      <td>100,000,000</td>\n",
              "      <td>Free</td>\n",
              "      <td>0</td>\n",
              "      <td>Everyone</td>\n",
              "      <td>Photography</td>\n",
              "    </tr>\n",
              "    <tr>\n",
              "      <th>10502</th>\n",
              "      <td>GO Launcher - 3D parallax Themes &amp; HD Wallpapers</td>\n",
              "      <td>PERSONALIZATION</td>\n",
              "      <td>4.50</td>\n",
              "      <td>7464996</td>\n",
              "      <td>6.15</td>\n",
              "      <td>100,000,000</td>\n",
              "      <td>Free</td>\n",
              "      <td>0</td>\n",
              "      <td>Everyone</td>\n",
              "      <td>Personalization</td>\n",
              "    </tr>\n",
              "  </tbody>\n",
              "</table>\n",
              "</div>"
            ],
            "text/plain": [
              "                                                     App  ...                     Genres\n",
              "10805                                           Facebook  ...                     Social\n",
              "10785                                 WhatsApp Messenger  ...              Communication\n",
              "10806                                          Instagram  ...                     Social\n",
              "10784           Messenger – Text and Video Chat for Free  ...              Communication\n",
              "10650                                     Clash of Clans  ...                   Strategy\n",
              "10744            Clean Master- Space Cleaner & Antivirus  ...                      Tools\n",
              "10835                                     Subway Surfers  ...                     Arcade\n",
              "10828                                            YouTube  ...    Video Players & Editors\n",
              "10746  Security Master - Antivirus, VPN, AppLock, Boo...  ...                      Tools\n",
              "10584                                       Clash Royale  ...                   Strategy\n",
              "10763                                   Candy Crush Saga  ...                     Casual\n",
              "10770        UC Browser - Fast Download Private & Secure  ...              Communication\n",
              "10735                                           Snapchat  ...                     Social\n",
              "10489    360 Security - Free Antivirus, Booster, Cleaner  ...                      Tools\n",
              "10731                                     My Talking Tom  ...                     Casual\n",
              "10594                                        8 Ball Pool  ...                     Sports\n",
              "10302  DU Battery Saver - Battery Charger & Battery Life  ...                      Tools\n",
              "10354                        BBM - Free Calls & Messages  ...              Communication\n",
              "10549  Cache Cleaner-DU Speed Booster (booster & clea...  ...                      Tools\n",
              "10757                                            Twitter  ...           News & Magazines\n",
              "10721                                    Viber Messenger  ...              Communication\n",
              "10578                                     Shadow Fight 2  ...                     Action\n",
              "10813                                      Google Photos  ...                Photography\n",
              "10724                        LINE: Free Calls & Messages  ...              Communication\n",
              "10717                                                Pou  ...                     Casual\n",
              "10792                      Skype - free IM & video calls  ...              Communication\n",
              "10628                                         Pokémon GO  ...                  Adventure\n",
              "10388           Minion Rush: Despicable Me Official Game  ...  Casual;Action & Adventure\n",
              "10694                                            Yes day  ...                     Casual\n",
              "10695                                            Hay Day  ...                     Casual\n",
              "10644                           Dream League Soccer 2018  ...                     Sports\n",
              "10696                                  My Talking Angela  ...                     Casual\n",
              "10660             VivaVideo - Video Editor & Photo Movie  ...    Video Players & Editors\n",
              "10786                       Google Chrome: Fast & Secure  ...              Communication\n",
              "10817                          Maps - Navigate & Explore  ...             Travel & Local\n",
              "10672                                  Hill Climb Racing  ...                     Racing\n",
              "10734                                      Facebook Lite  ...                     Social\n",
              "10649                                Asphalt 8: Airborne  ...                     Racing\n",
              "10699                          Mobile Legends: Bang Bang  ...                     Action\n",
              "10322  Battery Doctor-Battery Life Saver & Battery Co...  ...                      Tools\n",
              "10396                                     Piano Tiles 2™  ...                     Arcade\n",
              "10777                                       Temple Run 2  ...                     Action\n",
              "10822                                             Google  ...                      Tools\n",
              "10359  Truecaller: Caller ID, SMS spam blocking & Dialer  ...              Communication\n",
              "10711                         SHAREit - Transfer & Share  ...                      Tools\n",
              "10389   Sniper 3D Gun Shooter: Free Shooting Games - FPS  ...                     Action\n",
              "10676                                   Farm Heroes Saga  ...                     Casual\n",
              "10576   PicsArt Photo Studio: Collage Maker & Pic Editor  ...                Photography\n",
              "10461  PhotoGrid: Video & Pic Collage Maker, Photo Ed...  ...                Photography\n",
              "10502   GO Launcher - 3D parallax Themes & HD Wallpapers  ...            Personalization\n",
              "\n",
              "[50 rows x 10 columns]"
            ]
          },
          "metadata": {
            "tags": []
          },
          "execution_count": 82
        }
      ]
    },
    {
      "cell_type": "markdown",
      "metadata": {
        "id": "BFoRqpezjebe"
      },
      "source": [
        "# Plotly Pie and Donut Charts - Visualise Categorical Data: Content Ratings"
      ]
    },
    {
      "cell_type": "code",
      "metadata": {
        "id": "c0IIxNGnoFKM"
      },
      "source": [
        ""
      ],
      "execution_count": null,
      "outputs": []
    },
    {
      "cell_type": "code",
      "metadata": {
        "id": "TSiV6ZkjoFVg"
      },
      "source": [
        ""
      ],
      "execution_count": null,
      "outputs": []
    },
    {
      "cell_type": "code",
      "metadata": {
        "id": "7kil2mdfoFOr"
      },
      "source": [
        ""
      ],
      "execution_count": null,
      "outputs": []
    },
    {
      "cell_type": "code",
      "metadata": {
        "id": "6ZaHYNy2oFEE"
      },
      "source": [
        ""
      ],
      "execution_count": null,
      "outputs": []
    },
    {
      "cell_type": "markdown",
      "metadata": {
        "id": "RoPpW37xdiUm"
      },
      "source": [
        "# Numeric Type Conversion: Examine the Number of Installs\n",
        "\n",
        "**Challenge**: How many apps had over 1 billion (that's right - BILLION) installations? How many apps just had a single install? \n",
        "\n",
        "Check the datatype of the Installs column.\n",
        "\n",
        "Count the number of apps at each level of installations. \n",
        "\n",
        "Convert the number of installations (the Installs column) to a numeric data type. Hint: this is a 2-step process. You'll have make sure you remove non-numeric characters first. "
      ]
    },
    {
      "cell_type": "code",
      "metadata": {
        "id": "uTNyWsPboJLq"
      },
      "source": [
        ""
      ],
      "execution_count": null,
      "outputs": []
    },
    {
      "cell_type": "code",
      "metadata": {
        "id": "yzR49fYcoJRI"
      },
      "source": [
        ""
      ],
      "execution_count": null,
      "outputs": []
    },
    {
      "cell_type": "code",
      "metadata": {
        "id": "cFjptR-JoJOE"
      },
      "source": [
        ""
      ],
      "execution_count": null,
      "outputs": []
    },
    {
      "cell_type": "code",
      "metadata": {
        "id": "8AMmxKHgoJGT"
      },
      "source": [
        ""
      ],
      "execution_count": null,
      "outputs": []
    },
    {
      "cell_type": "markdown",
      "metadata": {
        "id": "7T4sfNpFdiUv"
      },
      "source": [
        "# Find the Most Expensive Apps, Filter out the Junk, and Calculate a (ballpark) Sales Revenue Estimate\n",
        "\n",
        "Let's examine the Price column more closely.\n",
        "\n",
        "**Challenge**: Convert the price column to numeric data. Then investigate the top 20 most expensive apps in the dataset.\n",
        "\n",
        "Remove all apps that cost more than $250 from the `df_apps_clean` DataFrame.\n",
        "\n",
        "Add a column called 'Revenue_Estimate' to the DataFrame. This column should hold the price of the app times the number of installs. What are the top 10 highest grossing paid apps according to this estimate? Out of the top 10 highest grossing paid apps, how many are games?\n"
      ]
    },
    {
      "cell_type": "code",
      "metadata": {
        "id": "CqhX2WCJoQEp"
      },
      "source": [
        ""
      ],
      "execution_count": null,
      "outputs": []
    },
    {
      "cell_type": "markdown",
      "metadata": {
        "id": "Rgposh-CdiU4"
      },
      "source": [
        "### The most expensive apps sub $250"
      ]
    },
    {
      "cell_type": "code",
      "metadata": {
        "id": "c8_n8z8XoUML"
      },
      "source": [
        ""
      ],
      "execution_count": null,
      "outputs": []
    },
    {
      "cell_type": "markdown",
      "metadata": {
        "id": "VGu85CLb4OOH"
      },
      "source": [
        "### Highest Grossing Paid Apps (ballpark estimate)"
      ]
    },
    {
      "cell_type": "code",
      "metadata": {
        "id": "3mDi45iIoVzE"
      },
      "source": [
        ""
      ],
      "execution_count": null,
      "outputs": []
    },
    {
      "cell_type": "markdown",
      "metadata": {
        "dc": {
          "key": "18"
        },
        "run_control": {
          "frozen": true
        },
        "tags": [
          "context"
        ],
        "id": "lvpM2MyTdiU6"
      },
      "source": [
        "# Plotly Bar Charts & Scatter Plots: Analysing App Categories"
      ]
    },
    {
      "cell_type": "code",
      "metadata": {
        "id": "3L6hK0aLoYxY"
      },
      "source": [
        ""
      ],
      "execution_count": null,
      "outputs": []
    },
    {
      "cell_type": "code",
      "metadata": {
        "id": "mg50Ts9joYz1"
      },
      "source": [
        ""
      ],
      "execution_count": null,
      "outputs": []
    },
    {
      "cell_type": "code",
      "metadata": {
        "id": "WZZizlGjoYfn"
      },
      "source": [
        ""
      ],
      "execution_count": null,
      "outputs": []
    },
    {
      "cell_type": "markdown",
      "metadata": {
        "id": "0tTurR7qdiU9"
      },
      "source": [
        "### Vertical Bar Chart - Highest Competition (Number of Apps)"
      ]
    },
    {
      "cell_type": "code",
      "metadata": {
        "id": "SFSMH00AoaMB"
      },
      "source": [
        ""
      ],
      "execution_count": null,
      "outputs": []
    },
    {
      "cell_type": "markdown",
      "metadata": {
        "id": "57mowetLdiU_"
      },
      "source": [
        "### Horizontal Bar Chart - Most Popular Categories (Highest Downloads)"
      ]
    },
    {
      "cell_type": "code",
      "metadata": {
        "id": "zHO7eTJmocLm"
      },
      "source": [
        ""
      ],
      "execution_count": null,
      "outputs": []
    },
    {
      "cell_type": "code",
      "metadata": {
        "id": "h7aUARLtocCy"
      },
      "source": [
        ""
      ],
      "execution_count": null,
      "outputs": []
    },
    {
      "cell_type": "markdown",
      "metadata": {
        "id": "Uxk24qMk8vrz"
      },
      "source": [
        "### Category Concentration - Downloads vs. Competition\n",
        "\n",
        "**Challenge**: \n",
        "* First, create a DataFrame that has the number of apps in one column and the number of installs in another:\n",
        "\n",
        "<img src=https://imgur.com/uQRSlXi.png width=\"350\">\n",
        "\n",
        "* Then use the [plotly express examples from the documentation](https://plotly.com/python/line-and-scatter/) alongside the [.scatter() API reference](https://plotly.com/python-api-reference/generated/plotly.express.scatter.html)to create scatter plot that looks like this. \n",
        "\n",
        "<img src=https://imgur.com/cHsqh6a.png>\n",
        "\n",
        "*Hint*: Use the size, hover_name and color parameters in .scatter(). To scale the yaxis, call .update_layout() and specify that the yaxis should be on a log-scale like so: yaxis=dict(type='log') "
      ]
    },
    {
      "cell_type": "code",
      "metadata": {
        "id": "tVvGPDY7oe5A"
      },
      "source": [
        ""
      ],
      "execution_count": null,
      "outputs": []
    },
    {
      "cell_type": "markdown",
      "metadata": {
        "id": "dmXDF75WdiVC"
      },
      "source": [
        "# Extracting Nested Data from a Column\n",
        "\n",
        "**Challenge**: How many different types of genres are there? Can an app belong to more than one genre? Check what happens when you use .value_counts() on a column with nested values? See if you can work around this problem by using the .split() function and the DataFrame's [.stack() method](https://pandas.pydata.org/pandas-docs/stable/reference/api/pandas.DataFrame.stack.html). \n"
      ]
    },
    {
      "cell_type": "code",
      "metadata": {
        "id": "3Lo69kS6ogdm"
      },
      "source": [
        ""
      ],
      "execution_count": null,
      "outputs": []
    },
    {
      "cell_type": "markdown",
      "metadata": {
        "id": "F3zaKvfydiVI"
      },
      "source": [
        "# Colour Scales in Plotly Charts - Competition in Genres"
      ]
    },
    {
      "cell_type": "markdown",
      "metadata": {
        "id": "Ucw6RT59diVK"
      },
      "source": [
        "**Challenge**: Can you create this chart with the Series containing the genre data? \n",
        "\n",
        "<img src=https://imgur.com/DbcoQli.png width=400>\n",
        "\n",
        "Try experimenting with the built in colour scales in Plotly. You can find a full list [here](https://plotly.com/python/builtin-colorscales/). \n",
        "\n",
        "* Find a way to set the colour scale using the color_continuous_scale parameter. \n",
        "* Find a way to make the color axis disappear by using coloraxis_showscale. "
      ]
    },
    {
      "cell_type": "code",
      "metadata": {
        "id": "c5xbfMgxojoA"
      },
      "source": [
        ""
      ],
      "execution_count": null,
      "outputs": []
    },
    {
      "cell_type": "markdown",
      "metadata": {
        "id": "BIWG_10PyIzL"
      },
      "source": [
        "# Grouped Bar Charts: Free vs. Paid Apps per Category"
      ]
    },
    {
      "cell_type": "code",
      "metadata": {
        "id": "ANMs7xywolDH"
      },
      "source": [
        ""
      ],
      "execution_count": null,
      "outputs": []
    },
    {
      "cell_type": "markdown",
      "metadata": {
        "id": "wmRXm0TW1e_Z"
      },
      "source": [
        "**Challenge**: Use the plotly express bar [chart examples](https://plotly.com/python/bar-charts/#bar-chart-with-sorted-or-ordered-categories) and the [.bar() API reference](https://plotly.com/python-api-reference/generated/plotly.express.bar.html#plotly.express.bar) to create this bar chart: \n",
        "\n",
        "<img src=https://imgur.com/LE0XCxA.png>\n",
        "\n",
        "You'll want to use the `df_free_vs_paid` DataFrame that you created above that has the total number of free and paid apps per category. \n",
        "\n",
        "See if you can figure out how to get the look above by changing the `categoryorder` to 'total descending' as outlined in the documentation here [here](https://plotly.com/python/categorical-axes/#automatically-sorting-categories-by-name-or-total-value). "
      ]
    },
    {
      "cell_type": "code",
      "metadata": {
        "id": "tqOntrS7onGt"
      },
      "source": [
        ""
      ],
      "execution_count": null,
      "outputs": []
    },
    {
      "cell_type": "markdown",
      "metadata": {
        "id": "nbYh2tU-VZ-i"
      },
      "source": [
        "# Plotly Box Plots: Lost Downloads for Paid Apps\n",
        "\n",
        "**Challenge**: Create a box plot that shows the number of Installs for free versus paid apps. How does the median number of installations compare? Is the difference large or small?\n",
        "\n",
        "Use the [Box Plots Guide](https://plotly.com/python/box-plots/) and the [.box API reference](https://plotly.com/python-api-reference/generated/plotly.express.box.html) to create the following chart. \n",
        "\n",
        "<img src=https://imgur.com/uVsECT3.png>\n"
      ]
    },
    {
      "cell_type": "code",
      "metadata": {
        "id": "Jip3hMZ7oqLS"
      },
      "source": [
        ""
      ],
      "execution_count": null,
      "outputs": []
    },
    {
      "cell_type": "markdown",
      "metadata": {
        "id": "Xi2NaEBPVNrP"
      },
      "source": [
        "# Plotly Box Plots: Revenue by App Category\n",
        "\n",
        "**Challenge**: See if you can generate the chart below: \n",
        "\n",
        "<img src=https://imgur.com/v4CiNqX.png>\n",
        "\n",
        "Looking at the hover text, how much does the median app earn in the Tools category? If developing an Android app costs $30,000 or thereabouts, does the average photography app recoup its development costs?\n",
        "\n",
        "Hint: I've used 'min ascending' to sort the categories. "
      ]
    },
    {
      "cell_type": "code",
      "metadata": {
        "id": "W1iVoT8Dos7x"
      },
      "source": [
        ""
      ],
      "execution_count": null,
      "outputs": []
    },
    {
      "cell_type": "markdown",
      "metadata": {
        "id": "uT32ylj4WS9B"
      },
      "source": [
        "# How Much Can You Charge? Examine Paid App Pricing Strategies by Category\n",
        "\n",
        "**Challenge**: What is the median price price for a paid app? Then compare pricing by category by creating another box plot. But this time examine the prices (instead of the revenue estimates) of the paid apps. I recommend using `{categoryorder':'max descending'}` to sort the categories."
      ]
    },
    {
      "cell_type": "code",
      "metadata": {
        "id": "AdBr0TUhouqs"
      },
      "source": [
        ""
      ],
      "execution_count": null,
      "outputs": []
    },
    {
      "cell_type": "code",
      "metadata": {
        "id": "bJnABRw3ovwr"
      },
      "source": [
        ""
      ],
      "execution_count": null,
      "outputs": []
    },
    {
      "cell_type": "code",
      "metadata": {
        "id": "zSXVSlVyQ4Kz"
      },
      "source": [
        ""
      ],
      "execution_count": null,
      "outputs": []
    }
  ]
}